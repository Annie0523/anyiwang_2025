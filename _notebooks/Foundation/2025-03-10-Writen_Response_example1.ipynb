{
 "cells": [
  {
   "cell_type": "raw",
   "metadata": {
    "vscode": {
     "languageId": "raw"
    }
   },
   "source": [
    "---\n",
    "layout: post\n",
    "title: College Board Writen Respond 1\n",
    "author: Anyi Wang \n",
    "comments: true\n",
    "toc: true\n",
    "---"
   ]
  },
  {
   "cell_type": "markdown",
   "metadata": {},
   "source": [
    "# Q1: Program Design, Function, and Purpose"
   ]
  },
  {
   "cell_type": "markdown",
   "metadata": {},
   "source": [
    "- The purpose of this function is to store and provide information about famous landscapes worldwide, allowing travelers to explore and discover destinations of interest. By offering detailed descriptions, images, and travel recommendations, the function helps users gain insights into various landscapes and inspires their travel plans."
   ]
  },
  {
   "cell_type": "markdown",
   "metadata": {},
   "source": [
    "# Q2\n"
   ]
  },
  {
   "cell_type": "markdown",
   "metadata": {},
   "source": [
    "### a) Algorithm Development"
   ]
  },
  {
   "cell_type": "markdown",
   "metadata": {},
   "source": [
    "``` python\n",
    "for field in required_fields:\n",
    "    if field not in data or not data[field].strip():\n",
    "        return jsonify({\"error\": f\"Missing or empty field: {field}\"}), 400\n",
    "```\n",
    "- This loop iterates exactly four times, corresponding to the number of required fields: `name`, `country`, `city`, and `description`.\n",
    "- If all fields are present, the loop runs four times without returning an error.\n",
    "- If a missing or empty field is found, the loop exits early with an error response."
   ]
  },
  {
   "cell_type": "markdown",
   "metadata": {},
   "source": [
    "### b) Errors and Testing"
   ]
  },
  {
   "cell_type": "markdown",
   "metadata": {},
   "source": [
    "- Error Identification: If the data is empty or missing necessary fields, the code returns an error message. If the data is not in JSON format,`request.get_json()` will return `None`, which will lead to a runtime error when attempting to call the `strip()` method on `NoneType`.\n",
    "\n",
    "- Correction: After `request.get_json()`, add `if not isinstance(data, dict): return jsonify({\"error\": \"Invalid JSON format\"}), 400` to avoid the `NoneType` error."
   ]
  },
  {
   "cell_type": "markdown",
   "metadata": {},
   "source": [
    "### c) Data and Procedural Abstraction\n"
   ]
  },
  {
   "cell_type": "markdown",
   "metadata": {},
   "source": [
    "```python\n",
    "def isEqual(a, b):\n",
    "    return a == b\n",
    "\n",
    "def count_landscapes_by_country(country):\n",
    "    landscapes = Landscape.query.all()  # Get all landscapes from the database\n",
    "    count = 0\n",
    "    for landscape in landscapes:\n",
    "        if isEqual(landscape.country, country):\n",
    "            count += 1\n",
    "    return count\n",
    "\n",
    "# Example usage\n",
    "country_name = \"USA\"\n",
    "result = count_landscapes_by_country(country_name)\n",
    "print(f\"Number of landscapes in {country_name}: {result}\")\n",
    "```\n",
    "- The algorithm iterates through all landscapes in the database and uses `isEqual(a, b)` to check if each landscape's country matches the given one. If a match is found, a counter is incremented. Finally, the function returns the total count. This effectively determines the number of landscapes in a specified country using list traversal and comparison."
   ]
  }
 ],
 "metadata": {
  "language_info": {
   "name": "python"
  }
 },
 "nbformat": 4,
 "nbformat_minor": 2
}
