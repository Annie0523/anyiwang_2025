{
 "cells": [
  {
   "cell_type": "raw",
   "metadata": {
    "vscode": {
     "languageId": "raw"
    }
   },
   "source": [
    "---\n",
    "layout: post\n",
    "title: Role Reflection\n",
    "author: Anyi Wang \n",
    "comments: true\n",
    "toc: true\n",
    "---"
   ]
  },
  {
   "cell_type": "markdown",
   "metadata": {},
   "source": [
    "# Scrum Assistance Project Summary Report  \n",
    "\n",
    "## 1. Personal Contributions Overview  \n",
    "As a **Scrum Assistance**, I played a critical role in designing the entire website, managing the team, and implementing technical solutions to ensure the website was successfully deployed and publicly accessible.  \n",
    "\n",
    "## 2. Main Responsibilities  \n",
    "\n",
    "### (1) Website Design  \n",
    "- Led the **UI/UX design**, ensuring a clean layout, proper color scheme, and smooth user interactions.  \n",
    "- Planned the user experience flow to make features clear and intuitive.  \n",
    "- [Website Concept](https://github.com/Annie0523/travelor_frontend/issues/1)\n",
    "\n",
    "### (2) Task Assignment & Team Management  \n",
    "- **Assigned tasks** to team members and ensured workload distribution.  \n",
    "- Maintained and **updated the Kanban Board** to track progress and keep the project on schedule.  \n",
    "- Guided team members in completing tasks, including **CPT Video, CRUD methods**, etc.  \n",
    "- [Planning Board](https://github.com/users/Annie0523/projects/1/views/1)\n",
    "\n",
    "### (3) Personal Feature Development  \n",
    "- **Feature - Landscape**:  \n",
    "  - Built a section displaying globally famous landscapes for users to explore.  \n",
    "- **Post System**:  \n",
    "  - Developed a feature where travelers can share their experiences and collect posts in their profiles.  \n",
    "- [Database Creation](https://annie0523.github.io/anyiwang_2025/2025/01/23/sprint_5_blog_IPYNB_2_.html)\n",
    "\n",
    "### (4) Backend & Website Deployment (Key Focus)  \n",
    "- Connected **frontend and backend**, ensuring seamless communication between components.  \n",
    "- Configured **AWS account** and deployed the website with a **custom domain** for public access.  \n",
    "- Handled **database management, user authentication, and security measures** to ensure stable website performance. \n",
    "- [Deployment Preparation](https://annie0523.github.io/anyiwang_2025/2025/02/02/aws_deployment_preparation_IPYNB_2_.html)\n",
    "- [Deployment Review](https://annie0523.github.io/anyiwang_2025/2025/02/11/deployment_checkpoint_IPYNB_2_.html)\n",
    "\n",
    "### (5) Learning College Board Concepts  \n",
    "- Studied **College Board Big Ideas 1-4** and took detailed notes to enhance my understanding of the project.  \n",
    "- Applied key computational thinking principles to improve problem-solving and software design.  \n",
    "- [BI1](https://annie0523.github.io/anyiwang_2025/2025/02/06/bi1_IPYNB_2_.html)\n",
    "- [BI3](https://annie0523.github.io/anyiwang_2025/2025/02/10/bi3_IPYNB_2_.html)\n",
    "- [BI4](https://annie0523.github.io/anyiwang_2025/2025/02/06/bi4_IPYNB_2_.html)\n",
    "\n",
    "## 3. Key Achievements  \n",
    "✅ Successfully launched the website for public access  \n",
    "✅ Implemented core features (landscape showcase, user posts, profile collection)  \n",
    "✅ Ensured smooth team collaboration and on-time task completion  \n",
    "\n",
    "## 4. Reflections & Summary  \n",
    "- **Challenges**: Balancing full-stack development, team management, and technical deployment within a limited timeframe.  \n",
    "- **Takeaways**: Gained hands-on experience in AWS deployment, backend integration, and team coordination, improving both technical and leadership skills.  \n"
   ]
  }
 ],
 "metadata": {
  "language_info": {
   "name": "python"
  }
 },
 "nbformat": 4,
 "nbformat_minor": 2
}
