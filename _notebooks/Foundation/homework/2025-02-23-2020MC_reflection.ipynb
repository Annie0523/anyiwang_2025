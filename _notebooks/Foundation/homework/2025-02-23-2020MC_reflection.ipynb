{
 "cells": [
  {
   "cell_type": "raw",
   "metadata": {
    "vscode": {
     "languageId": "raw"
    }
   },
   "source": [
    "---\n",
    "layout: post\n",
    "title: 2020 MC Reflection\n",
    "author: Anyi Wang \n",
    "comments: true\n",
    "toc: true\n",
    "---"
   ]
  },
  {
   "cell_type": "markdown",
   "metadata": {},
   "source": [
    "# Corrections"
   ]
  },
  {
   "cell_type": "markdown",
   "metadata": {},
   "source": [
    "### Q14: Display Digits in Reverse Order  \n",
    "\n",
    "#### Problem Statement  \n",
    "The following algorithm is intended to take a positive integer as input and display its individual digits in order from right to left. For example, if the input is **512**, the algorithm should produce the output:  2 1 5\n",
    "\n",
    "Step 3 of the algorithm is missing.  \n",
    "\n",
    "#### Given Algorithm  \n",
    "1. **Step 1:** Input a positive integer from the user and store it in the variable `number`.  \n",
    "2. **Step 2:** Divide `number` by 10 and record:  \n",
    "   - The **integer quotient** (quotient with the decimal part dropped).  \n",
    "   - The **remainder** (last digit of `number`).  \n",
    "3. **Step 3:** (Missing Step)  \n",
    "4. **Step 4:** Repeat steps 2 and 3 until `number` becomes 0.  \n",
    "\n",
    "#### Choices  \n",
    "Which of the following can be used as **Step 3** so that the algorithm works as intended?  \n",
    "\n",
    "**A.** Display the remainder of `number` divided by 10 and store the remainder in `number`.  \n",
    "\n",
    "**B.** Display the remainder of `number` divided by 10 and store the integer quotient in `number`.  \n",
    "\n",
    "**C.** Display the integer quotient of `number` divided by 10 and store the remainder in `number`.  \n",
    "\n",
    "**D.** Display the integer quotient of `number` divided by 10 and store the integer quotient in `number`.  \n",
    "\n",
    "#### Correct Answer: **B**  \n",
    "**Explanation:**  \n",
    "- **Step 2** gives the remainder (last digit) and the integer quotient.  \n",
    "- **Step 3** should display the remainder (the last digit).  \n",
    "- **Step 3** should also store the integer quotient back into `number` so that in the next iteration, the process continues with the remaining digits.  \n",
    "\n",
    "Thus, the correct step is:  \n",
    "```plaintext\n",
    "Step 3: Display the remainder of number divided by 10 and store the integer quotient in number.\n",
    "```\n",
    "\n",
    "#### Why **A** is Incorrect:  \n",
    "- **A stores the remainder in `number`**, which leads to an **infinite loop** unless `number` is a multiple of 10.  \n",
    "\n",
    "##### Example:  \n",
    "- **Input:** `512`  \n",
    "  1. Step 1: `512 % 10 = 2`, store `number = 2`  \n",
    "  2. Step 2: `2 % 10 = 2`, store `number = 2` (loop continues forever)  \n",
    "\n",
    "Thus, the algorithm gets stuck in an infinite loop because `number` never reduces to `0`.  \n",
    "\n",
    "#### Remind\n",
    "Carefully check the input number, remainder/integer!\n",
    "\n",
    "#### Category: 3.3\n"
   ]
  },
  {
   "cell_type": "markdown",
   "metadata": {},
   "source": [
    "### Q20: Average amount of data per user\n",
    "\n",
    "#### Problem Statement  \n",
    "A file storage application allows users to save their files on cloud servers. A group of researchers gathered user data for the first eight years of the application’s existence. Some of the data are summarized in the following graphs. The line graph on the left shows the number of registered users each year. The line graph on the right shows the total amount of data stored by all users each year. The circle graph shows the distribution of file sizes currently stored by all users.\n",
    "![File Storage Data Graph](https://assets.learnosity.com/organisations/537/VR020574.g02.png)  \n",
    "\n",
    "#### Choices  \n",
    "Which of the following best describes the average amount of data stored per user for the first eight years of the application’s existence?\n",
    "\n",
    "**A.** Across all eight years, the average amount of data stored per user was about 10 GB.\n",
    "\n",
    "**B.** Across all eight years, the average amount of data stored per user was about 100 GB.\n",
    "\n",
    "**C.** The average amount of data stored per user appears to increase by about 10 GB each year.\n",
    "\n",
    "**D.** The average amount of data stored per user appears to increase by about 100 GB each year.\n",
    "\n",
    "#### Correct Answer: **A**  \n",
    "**Explanation:**  \n",
    "- To determine the average amount of data stored per user, we compare the **Total Amount of Data Stored** graph with the **Number of Registered Users** graph.  \n",
    "- From the graphs, each year’s total data storage (in million GB) is approximately **10 times** the number of users (in million users).  \n",
    "- This means the average storage per user is:  \n",
    "Average storage per user = Total Data Stored / Number of Users ≈ 10 GB per user\n",
    "\n",
    "#### Why **B** is Incorrect:  \n",
    "- Each value on the **Total Amount of Data Stored** graph is about **10 times** the corresponding value on the **Registered Users** graph.  \n",
    "- This suggests that the **average amount of data stored per user** is approximately **10 GB**, not **100 GB**.  \n",
    "\n",
    "##### Example Calculation:  \n",
    "- Year 8:  \n",
    "  - **Total Data Stored:** `6,986 million GB`  \n",
    "  - **Total Users:** `701 million`  \n",
    "  - **Average Data per User:** `6,986 ÷ 701 ≈ 10 GB`  \n",
    "\n",
    "#### Category: 2.3\n"
   ]
  },
  {
   "cell_type": "markdown",
   "metadata": {},
   "source": []
  }
 ],
 "metadata": {
  "language_info": {
   "name": "python"
  }
 },
 "nbformat": 4,
 "nbformat_minor": 2
}
