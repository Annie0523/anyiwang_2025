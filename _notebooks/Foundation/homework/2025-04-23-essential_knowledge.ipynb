{
 "cells": [
  {
   "cell_type": "raw",
   "id": "9a1d5c91",
   "metadata": {},
   "source": [
    "---\n",
    "layout: post\n",
    "title: Essential Knowledge for AP Exam\n",
    "author: Anyi Wang \n",
    "comments: true\n",
    "toc: true\n",
    "---"
   ]
  },
  {
   "cell_type": "markdown",
   "id": "98f1616b",
   "metadata": {},
   "source": [
    "\n",
    "## 🌐 Crowdsourcing\n",
    "- **Definition**: Crowdsourcing is the practice of obtaining input, ideas, services, or data by soliciting contributions from a large group of people, typically from an online community.\n",
    "- **Examples**: Wikipedia, reCAPTCHA, OpenStreetMap.\n",
    "- **Advantages**: Low cost, faster results, diverse perspectives.\n",
    "- **Challenges**: Quality control, potential bias, misinformation.\n",
    "\n",
    "---\n",
    "\n",
    "## 🔐 Key Decryption\n",
    "- **Definition**: Decryption is the process of converting encrypted data back into its original form, usually using a **key**.\n",
    "- **Symmetric Encryption**: The **same key** is used for both encryption and decryption (e.g., AES).\n",
    "- **Asymmetric Encryption**: Uses a **key pair** — a **public key** to encrypt and a **private key** to decrypt (e.g., RSA).\n",
    "- **Application**: Used in secure communication like HTTPS (web security).\n",
    "\n",
    "---\n",
    "\n",
    "## 📶 Bandwidth\n",
    "- **Definition**: Bandwidth refers to the **maximum amount of data** that can be transmitted over a network in a given amount of time.\n",
    "- **Measured in**: Bits per second (bps), commonly Mbps (megabits per second).\n",
    "- **Higher bandwidth** means faster data transfer.\n",
    "\n",
    "---\n",
    "\n",
    "## 🧠 Undecidable Problems\n",
    "- **Definition**: An undecidable problem is a problem for which **no algorithm** can be created that will always lead to a correct yes/no answer.\n",
    "- **Example**: The Halting Problem — determining whether a program will halt or run forever on a given input.\n",
    "- **Significance**: Shows the **limits of computation** — not all problems can be solved with algorithms.\n",
    "\n",
    "---\n",
    "\n",
    "## 💾 Bits and Data Representation\n",
    "- **Bit**: The smallest unit of data in computing (0 or 1).\n",
    "- **Bytes**: 1 byte = 8 bits.\n",
    "- **Larger Units**: KB (kilobyte), MB (megabyte), GB (gigabyte), TB (terabyte).\n",
    "- **Used to Represent**:\n",
    "  - Numbers\n",
    "  - Characters (ASCII/Unicode)\n",
    "  - Images (pixels in binary)\n",
    "  - Audio (sampled waveforms)\n",
    "\n",
    "---\n",
    "\n",
    "## 🗜️ Data Compression\n",
    "- **Definition**: Data compression reduces the number of bits needed to store or transmit data.\n",
    "- **When to Use**:\n",
    "  - Sending data over networks (saves bandwidth).\n",
    "  - Storing large files (saves space).\n",
    "- **Types**:\n",
    "  - **Lossless Compression**: No data lost (e.g., ZIP, PNG).\n",
    "  - **Lossy Compression**: Some data lost, smaller size (e.g., MP3, JPEG).\n"
   ]
  }
 ],
 "metadata": {
  "language_info": {
   "name": "python"
  }
 },
 "nbformat": 4,
 "nbformat_minor": 5
}
