{
 "cells": [
  {
   "cell_type": "raw",
   "metadata": {
    "vscode": {
     "languageId": "raw"
    }
   },
   "source": [
    "---\n",
    "layout: post\n",
    "title: Sprint 5\n",
    "author: Anyi Wang \n",
    "comments: true\n",
    "toc: true\n",
    "---"
   ]
  },
  {
   "cell_type": "markdown",
   "metadata": {},
   "source": [
    "# Project Purpose"
   ]
  },
  {
   "cell_type": "markdown",
   "metadata": {},
   "source": [
    "### Purpose for the Group Project"
   ]
  },
  {
   "cell_type": "markdown",
   "metadata": {},
   "source": [
    "The purpose of our group's program, The Travelers, is to serve as a comprehensive platform for travelers, offering convenience and fostering interest in exploration."
   ]
  },
  {
   "cell_type": "markdown",
   "metadata": {},
   "source": [
    "### Purpose for My Individual Feature"
   ]
  },
  {
   "cell_type": "markdown",
   "metadata": {},
   "source": [
    "My individual feature, Landscape, introduces users to basic information about famous landscapes around the world. This feature aims to spark curiosity and encourage travelers to explore these destinations by providing engaging and insightful details."
   ]
  },
  {
   "cell_type": "markdown",
   "metadata": {},
   "source": [
    "## Reflect & Conclude"
   ]
  },
  {
   "cell_type": "markdown",
   "metadata": {},
   "source": [
    "During this period of study, I learned how to create a dynamic database on the backend to store landscape data and successfully implemented interaction with the frontend. I became familiar with basic database operations, such as creating, reading, updating, and deleting (CRUD) data. Using Postman, I simulated adding and deleting data to test the functionality and reliability of backend APIs.  \n",
    "\n",
    "Additionally, I applied these features to the frontend by sending requests to the backend, enabling dynamic updates and displays of data. This process gave me a deeper understanding of the collaboration between backend and frontend development and enhanced my proficiency in API calls and data interaction."
   ]
  },
  {
   "cell_type": "markdown",
   "metadata": {},
   "source": [
    "## Working Plan"
   ]
  },
  {
   "cell_type": "markdown",
   "metadata": {},
   "source": [
    "After confirming the theme of our group website, **Travel**, I immediately created a to-do list on my own, including a burndown for each task."
   ]
  },
  {
   "cell_type": "markdown",
   "metadata": {},
   "source": [
    "<img src=\"{{site.baseurl}}/images/sprint5/kanban.png\" alt=\"Kanban Board\" width=\"1000\">"
   ]
  },
  {
   "cell_type": "markdown",
   "metadata": {},
   "source": [
    "## Working Journal"
   ]
  },
  {
   "cell_type": "markdown",
   "metadata": {},
   "source": [
    "#### Create a Database in Backend"
   ]
  },
  {
   "cell_type": "markdown",
   "metadata": {},
   "source": [
    "Here's `model/landscape.py`"
   ]
  },
  {
   "cell_type": "markdown",
   "metadata": {},
   "source": [
    "<img src=\"{{site.baseurl}}/images/sprint5/model table create.png\" alt=\"database table create\" width=\"1000\">"
   ]
  },
  {
   "cell_type": "markdown",
   "metadata": {},
   "source": [
    "<img src=\"{{site.baseurl}}/images/sprint5/model tabel data.png\" alt=\"database table data\" width=\"1000\">"
   ]
  },
  {
   "cell_type": "markdown",
   "metadata": {},
   "source": [
    "Here's the database table"
   ]
  },
  {
   "cell_type": "markdown",
   "metadata": {},
   "source": [
    "<img src=\"{{site.baseurl}}/images/sprint5/database.png\" alt=\"database(.db))\" width=\"1000\">"
   ]
  },
  {
   "cell_type": "markdown",
   "metadata": {},
   "source": [
    "#### Add/Delete Data"
   ]
  },
  {
   "cell_type": "markdown",
   "metadata": {},
   "source": [
    "addition in `model/landscape.py`"
   ]
  },
  {
   "cell_type": "markdown",
   "metadata": {},
   "source": [
    "<img src=\"{{site.baseurl}}/images/sprint5/model tabel add delete restore function.png\" alt=\"model add delete restore function\" width=\"1000\">"
   ]
  },
  {
   "cell_type": "markdown",
   "metadata": {},
   "source": [
    "I add an `api/landscape.py` in order to have a host to run"
   ]
  },
  {
   "cell_type": "markdown",
   "metadata": {},
   "source": [
    "<img src=\"{{site.baseurl}}/images/sprint5/api connect to model.png\" alt=\"api connect to model\" width=\"1000\">"
   ]
  },
  {
   "cell_type": "markdown",
   "metadata": {},
   "source": [
    "After that, I test them in postman"
   ]
  },
  {
   "cell_type": "markdown",
   "metadata": {},
   "source": [
    "<img src=\"{{site.baseurl}}/images/sprint5/add in postman.png\" alt=\"test adding in postman\" width=\"1000\">"
   ]
  },
  {
   "cell_type": "markdown",
   "metadata": {},
   "source": [
    "<img src=\"{{site.baseurl}}/images/sprint5/delete in postman.png\" alt=\"test deleting in postman\" width=\"1000\">"
   ]
  },
  {
   "cell_type": "markdown",
   "metadata": {},
   "source": [
    "#### Initialize, Backup & Restore Data"
   ]
  },
  {
   "cell_type": "markdown",
   "metadata": {},
   "source": [
    "I also restored my data in backend. After writing the content to be stored in `main.py`, I ran `db_backup.py` and obtained a JSON file that stores the landscape data."
   ]
  },
  {
   "cell_type": "markdown",
   "metadata": {},
   "source": [
    "<img src=\"{{site.baseurl}}/images/sprint5/data backuped in json.png\" alt=\"json data stored\" width=\"1000\">"
   ]
  },
  {
   "cell_type": "markdown",
   "metadata": {},
   "source": [
    "This way, even if I accidentally delete some data, I can restore it by running `db_restore.py` to retrieve it from the backup."
   ]
  },
  {
   "cell_type": "markdown",
   "metadata": {},
   "source": [
    "#### Connect Backend to Frontend"
   ]
  },
  {
   "cell_type": "markdown",
   "metadata": {},
   "source": [
    "I fetch the data in backend to frontend"
   ]
  },
  {
   "cell_type": "markdown",
   "metadata": {},
   "source": [
    "<img src=\"{{site.baseurl}}/images/sprint5/frontend fetch backend.png\" alt=\"fetch backend and frontend\" width=\"1000\">"
   ]
  },
  {
   "cell_type": "markdown",
   "metadata": {},
   "source": [
    "After doing that, the data is showing in frontend as a table that contain landscapes and more details"
   ]
  },
  {
   "cell_type": "markdown",
   "metadata": {},
   "source": [
    "<img src=\"{{site.baseurl}}/images/sprint5/data show in frontend.png\" alt=\"frontend website table\" width=\"1000\">"
   ]
  },
  {
   "cell_type": "markdown",
   "metadata": {},
   "source": [
    "I also apply the add function to my frontend"
   ]
  },
  {
   "cell_type": "markdown",
   "metadata": {},
   "source": [
    "<img src=\"{{site.baseurl}}/images/sprint5/add landscape in frontend.png\" alt=\"frontend web site add new landscape\" width=\"1000\">"
   ]
  },
  {
   "cell_type": "markdown",
   "metadata": {},
   "source": [
    "Here is the result"
   ]
  },
  {
   "cell_type": "markdown",
   "metadata": {},
   "source": [
    "<img src=\"{{site.baseurl}}/images/sprint5/new data show after add.png\" alt=\"frontend website table new\" width=\"1000\">"
   ]
  },
  {
   "cell_type": "markdown",
   "metadata": {},
   "source": [
    "### Future Plan"
   ]
  },
  {
   "cell_type": "markdown",
   "metadata": {},
   "source": [
    "I will continue to improve on the existing foundation, attempting to add the functionality of storing photos in the database and allowing users to upload photos on frontend."
   ]
  },
  {
   "cell_type": "markdown",
   "metadata": {},
   "source": [
    "### Important Knowledge"
   ]
  },
  {
   "cell_type": "markdown",
   "metadata": {},
   "source": [
    "- **Formatting response data (JSON) from API into DOM**\n",
    "    - When an API returns data in JSON format, the frontend must process and display it dynamically in the Document Object Model (DOM).\n",
    "    - How it works: \n",
    "        - The API sends JSON data.\n",
    "        - The JavaScript fetch function retrieves it.\n",
    "        - The JSON response is parsed and displayed dynamically in the browser."
   ]
  },
  {
   "cell_type": "code",
   "execution_count": null,
   "metadata": {
    "vscode": {
     "languageId": "javascript"
    }
   },
   "outputs": [],
   "source": [
    "async function fetchLandscapes() {\n",
    "    try {\n",
    "        const response = await fetch(`${pythonURI}/api/landscapes`); \n",
    "        const landscapeData = await response.json();\n",
    "        displayLandscapes(landscapeData);\n",
    "    } catch (error) {\n",
    "        console.error('Error fetching landscapes:', error);\n",
    "    }\n",
    "}"
   ]
  },
  {
   "cell_type": "code",
   "execution_count": null,
   "metadata": {
    "vscode": {
     "languageId": "javascript"
    }
   },
   "outputs": [],
   "source": [
    "function displayLandscapes(landscapeData) {\n",
    "    const resultContainer = document.getElementById('result');\n",
    "    resultContainer.innerHTML = ''; // Clear previous content\n",
    "\n",
    "    landscapeData.forEach(landscape => {\n",
    "        const tr = document.createElement('tr');\n",
    "        const name = document.createElement('td');\n",
    "        const country = document.createElement('td');\n",
    "        const city = document.createElement('td');\n",
    "        const description = document.createElement('td');\n",
    "\n",
    "        name.innerHTML = landscape.name; \n",
    "        country.innerHTML = landscape.country; \n",
    "        city.innerHTML = landscape.city; \n",
    "        description.innerHTML = landscape.description; \n",
    "\n",
    "        tr.appendChild(name);\n",
    "        tr.appendChild(country);\n",
    "        tr.appendChild(city);\n",
    "        tr.appendChild(description);\n",
    "        resultContainer.appendChild(tr);\n",
    "    });\n",
    "}"
   ]
  },
  {
   "cell_type": "markdown",
   "metadata": {},
   "source": [
    "- **Queries from the database where you extract a Python List (rows)**\n",
    "    - In many web applications, database queries return lists of rows, which represent multiple records from a table.\n",
    "    - Third-Party Libraries Used: `SQLite3`"
   ]
  },
  {
   "cell_type": "code",
   "execution_count": null,
   "metadata": {},
   "outputs": [],
   "source": [
    "@staticmethod\n",
    "def get_all_landscapes():\n",
    "    try:\n",
    "            landscapes = Landscape.query.all()\n",
    "            return [landscape.serialize() for landscape in landscapes]\n",
    "    except Exception as e:\n",
    "            logging.warning(f\"Error retrieving landscapes: {str(e)}\")\n",
    "            return []"
   ]
  },
  {
   "cell_type": "markdown",
   "metadata": {},
   "source": [
    "- **Methods in \"class\" to work with columns (CRUD operations)**\n",
    "    - Object-oriented programming (OOP) allows us to encapsulate database operations in a class. This improves code organization and maintainability."
   ]
  },
  {
   "cell_type": "code",
   "execution_count": null,
   "metadata": {},
   "outputs": [],
   "source": [
    "from __init__ import app, db\n",
    "import logging\n",
    "\n",
    "class Landscape(db.Model):\n",
    "    __tablename__ = 'landscapes'\n",
    "    id = db.Column(db.Integer, primary_key=True)\n",
    "    name = db.Column(db.String(255), nullable=False)\n",
    "    country = db.Column(db.String(255), nullable=False)\n",
    "    city = db.Column(db.String(255), nullable=False)\n",
    "    description = db.Column(db.String(225), nullable=False)\n",
    "    def __init__(self, name, country, city, description):\n",
    "        self.name = name\n",
    "        self.country = country\n",
    "        self.city = city\n",
    "        self.description = description"
   ]
  },
  {
   "cell_type": "markdown",
   "metadata": {},
   "source": [
    "- **Algorithmic Code to Handle a Request**\n",
    "    - When an API request is made, an algorithm processes the incoming data.\n",
    "    - If name is provided → Returns success message.\n",
    "    - If name is missing → Returns an error.\n"
   ]
  },
  {
   "cell_type": "code",
   "execution_count": null,
   "metadata": {},
   "outputs": [],
   "source": [
    "def delete(self):\n",
    "        data = request.get_json()\n",
    "        landscape = Landscape.query.get(data['id'])\n",
    "        if landscape:\n",
    "            landscape.delete()\n",
    "            return jsonify(landscape.read()), 200\n",
    "        else:\n",
    "            return jsonify({\"error\": \"Landscape not found\"}), 404"
   ]
  },
  {
   "cell_type": "markdown",
   "metadata": {},
   "source": [
    "- **API Class for GET, POST, PUT, DELETE**\n",
    "    - Web APIs use HTTP methods to interact with data. A Flask API class is used to implement RESTful endpoints.\n",
    "    - Usage\n",
    "        - GET retrieve all\n",
    "        - POST create a new\n",
    "        - PUT  update an existing class\n",
    "        - DELETE remove\n"
   ]
  },
  {
   "cell_type": "code",
   "execution_count": null,
   "metadata": {},
   "outputs": [],
   "source": [
    "def create(self):\n",
    "        try:\n",
    "            db.session.add(self)\n",
    "            db.session.commit()\n",
    "            return self\n",
    "        except Exception as e:\n",
    "            db.session.rollback()\n",
    "            logging.warning(f\"Error creating landscape: {str(e)}\")\n",
    "            return None\n",
    "\n",
    "def delete(self):\n",
    "        try:\n",
    "            db.session.delete(self)\n",
    "            db.session.commit()\n",
    "        except Exception as e:\n",
    "            db.session.rollback()\n",
    "            logging.warning(f\"Error deleting landscape: {str(e)}\")\n",
    "            raise e\n",
    "        \n",
    "def read(self):\n",
    "        return {\n",
    "            'id': self.id,\n",
    "            'name': self.name,\n",
    "            'country': self.country,\n",
    "            'city': self.city,\n",
    "            'description': self.description\n",
    "        }\n",
    "\n",
    "\n",
    "@staticmethod\n",
    "def restore(data):\n",
    "        try:\n",
    "            for item in data:\n",
    "                \n",
    "                # Check if the landscape already exists\n",
    "                existing_landscape = Landscape.query.filter_by(\n",
    "                    name=item['name'],\n",
    "                    country=item['country'],\n",
    "                    city=item['city'],\n",
    "                    description=item['description']\n",
    "                ).first()\n",
    "                \n",
    "                if not existing_landscape:\n",
    "                    landscape = Landscape(\n",
    "                        name=item['name'],\n",
    "                        country=item['country'],\n",
    "                        city=item['city'],\n",
    "                        description=item['description']\n",
    "                    )\n",
    "                    db.session.add(landscape)\n",
    "            db.session.commit()\n",
    "            return True\n",
    "        except Exception as e:\n",
    "            db.session.rollback()\n",
    "            logging.warning(f\"Error restoring landscapes: {str(e)}\")\n",
    "            return False\n",
    "        \n",
    "def initLandscape():\n",
    "    \"\"\"\n",
    "    The initLandscape function creates the Landscape table and adds tester data to the table.\n",
    "\n",
    "    Uses:\n",
    "        The db ORM methods to create the table.\n",
    "    \"\"\"\n",
    "    try:\n",
    "        db.create_all()\n",
    "\n",
    "        # Check if data already exists\n",
    "        if not Landscape.query.first():\n",
    "            landscapes = [\n",
    "                Landscape(\n",
    "                    name=\"Grand Canyon\",\n",
    "                    country=\"USA\",\n",
    "                    city=\"Arizona\",\n",
    "                    description=\"A steep-sided canyon carved by the Colorado River.\"\n",
    "                ),\n",
    "                Landscape(\n",
    "                    name=\"Great Wall of China\",\n",
    "                    country=\"China\",\n",
    "                    city=\"Beijing\",\n",
    "                    description=\"A series of fortifications made of stone, brick, tamped earth, wood, and other materials.\"\n",
    "                ),\n",
    "                Landscape(\n",
    "                    name=\"Eiffel Tower\",\n",
    "                    country=\"France\",\n",
    "                    city=\"Paris\",\n",
    "                    description=\"A wrought-iron lattice tower on the Champ de Mars in Paris, France.\"\n",
    "                )\n",
    "            ]\n",
    "            for landscape in landscapes:\n",
    "                landscape.create()\n",
    "\n",
    "        logging.info(\"Landscape table initialized and seeded successfully.\")\n",
    "    except Exception as e:\n",
    "        logging.error(f\"Error initializing Landscape table: {e}\")\n",
    "        raise e"
   ]
  },
  {
   "cell_type": "markdown",
   "metadata": {},
   "source": [
    "- **Method in Class Containing Sequencing, Selection, Iteration**\n",
    "    - Retrieve (sequencing).\n",
    "    - Loops through each (iteration).\n",
    "    - Checks conditions (selection)."
   ]
  },
  {
   "cell_type": "code",
   "execution_count": null,
   "metadata": {},
   "outputs": [],
   "source": [
    "def restore(data):\n",
    "        try:\n",
    "            for item in data:\n",
    "                \n",
    "                # Check if the landscape already exists\n",
    "                existing_landscape = Landscape.query.filter_by(\n",
    "                    name=item['name'],\n",
    "                    country=item['country'],\n",
    "                    city=item['city'],\n",
    "                    description=item['description']\n",
    "                ).first()\n",
    "                \n",
    "                if not existing_landscape:\n",
    "                    landscape = Landscape(\n",
    "                        name=item['name'],\n",
    "                        country=item['country'],\n",
    "                        city=item['city'],\n",
    "                        description=item['description']\n",
    "                    )\n",
    "                    db.session.add(landscape)\n",
    "            db.session.commit()\n",
    "            return True\n",
    "        except Exception as e:\n",
    "            db.session.rollback()\n",
    "            logging.warning(f\"Error restoring landscapes: {str(e)}\")\n",
    "            return False"
   ]
  },
  {
   "cell_type": "markdown",
   "metadata": {},
   "source": [
    "- **Parameters (Body of Request) & Return Type (jsonify)**\n",
    "    - APIs accept request body parameters and return structured JSON responses\n",
    "    - The function reads landscapes from the request body.\n",
    "    - Inserts the landscape into the database.\n",
    "    - Returns a JSON response."
   ]
  },
  {
   "cell_type": "code",
   "execution_count": null,
   "metadata": {},
   "outputs": [],
   "source": [
    "const response = await fetch(`${pythonURI}/api/landscapes`, {\n",
    "    method: 'POST',\n",
    "    headers: {\n",
    "        'Content-Type': 'application/json'\n",
    "    },\n",
    "    body: JSON.stringify(formData)\n",
    "});"
   ]
  },
  {
   "cell_type": "markdown",
   "metadata": {},
   "source": [
    "- **Code Block to Make a Request (Call to Algorithm Request)**\n",
    "    -  API requests can be made using requests in Python."
   ]
  },
  {
   "cell_type": "code",
   "execution_count": null,
   "metadata": {},
   "outputs": [],
   "source": [
    "const response = await fetch(`${pythonURI}/api/landscapes`, { \n",
    "    method: 'POST',\n",
    "    headers: { 'Content-Type': 'application/json' },\n",
    "    body: JSON.stringify(formData)\n",
    "});"
   ]
  },
  {
   "cell_type": "markdown",
   "metadata": {},
   "source": [
    "- **Fetching API Data (Call to Method with Algorithm)**\n",
    "    - The client needs to make an API call to fetch data from a server.\n",
    "    - The fetchLandscapes() function makes an API request using fetch().\n",
    "    - The API endpoint is dynamically set based on whether the script runs locally or on a production server."
   ]
  },
  {
   "cell_type": "code",
   "execution_count": null,
   "metadata": {},
   "outputs": [],
   "source": [
    "const pythonURI = (() => {\n",
    "    if (location.hostname === \"localhost\" || location.hostname === \"127.0.0.1\") {\n",
    "        return \"http://127.0.0.1:8402\"; \n",
    "    } else {\n",
    "        return \"https://flask2025.nighthawkcodingsociety.com\";\n",
    "    }\n",
    "})();"
   ]
  },
  {
   "cell_type": "code",
   "execution_count": null,
   "metadata": {},
   "outputs": [],
   "source": [
    "async function fetchLandscapes() {\n",
    "    try {\n",
    "        const response = await fetch(`${pythonURI}/api/landscapes`); \n",
    "        const landscapeData = await response.json();\n",
    "        displayLandscapes(landscapeData);\n",
    "    } catch (error) {\n",
    "        console.error('Error fetching landscapes:', error);\n",
    "    }\n",
    "}"
   ]
  },
  {
   "cell_type": "markdown",
   "metadata": {},
   "source": [
    "- how it works\n",
    "    - The function is asynchronous, meaning it does not block the page while waiting for the API.\n",
    "    - Uses await fetch() to request data.\n",
    "    - Uses await response.json() to parse the JSON response.\n",
    "    - Calls displayLandscapes() to handle the result."
   ]
  },
  {
   "cell_type": "markdown",
   "metadata": {},
   "source": [
    "- **Handling API Response (Fetch & Data Handling)**\n",
    "    - Once the data is retrieved, it must be properly processed and displayed.\n"
   ]
  },
  {
   "cell_type": "code",
   "execution_count": null,
   "metadata": {},
   "outputs": [],
   "source": [
    "if (!response.ok) {\n",
    "    throw new Error('Failed to fetch landscapes: ' + response.statusText);\n",
    "}\n",
    "fetchLandscapes();"
   ]
  }
 ],
 "metadata": {
  "language_info": {
   "name": "python"
  }
 },
 "nbformat": 4,
 "nbformat_minor": 2
}
