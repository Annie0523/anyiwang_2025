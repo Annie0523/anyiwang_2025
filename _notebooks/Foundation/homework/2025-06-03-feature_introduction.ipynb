{
 "cells": [
  {
   "cell_type": "raw",
   "id": "eb054237",
   "metadata": {},
   "source": [
    "---\n",
    "layout: post\n",
    "title: Feature Introduction\n",
    "author: Anyi Wang \n",
    "comments: true\n",
    "toc: true\n",
    "---"
   ]
  },
  {
   "cell_type": "markdown",
   "id": "40191817",
   "metadata": {},
   "source": [
    "## Glucose Record Feature Overview\n",
    "\n",
    "- **Manual Data Input:**\n",
    "  - Users can manually enter their blood glucose levels through a simple input form.\n",
    "  - The input can include values along with the timestamp of the measurement.\n",
    "\n",
    "- **Automatic Data Upload:**\n",
    "  - Once submitted, the data is securely sent to the backend and stored in a database.\n",
    "  - The system supports real-time updates and consistent record-keeping.\n",
    "\n",
    "- **Immediate Feedback on Glucose Status:**\n",
    "  - After submission, the system automatically analyzes the value and categorizes it as:\n",
    "    - 🟢 Normal\n",
    "    - 🔴 High\n",
    "    - 🔵 Low\n",
    "  - This feedback is instantly displayed next to the input for user awareness.\n",
    "\n",
    "- **Dynamic Line Chart Visualization:**\n",
    "  - All recorded glucose levels are plotted on an interactive line chart.\n",
    "  - The chart provides a clear visual of changes and trends over time.\n",
    "  - Users can easily track fluctuations and patterns in their glucose levels.\n",
    "\n",
    "- **User-Centered Design:**\n",
    "  - Designed to assist users in managing diabetes and understanding their health.\n",
    "  - Provides a simple and clear interface with responsive visuals.\n",
    "\n",
    "This feature helps make blood glucose tracking intuitive, informative, and accessible, especially for educational or simulation purposes.\n"
   ]
  },
  {
   "cell_type": "markdown",
   "id": "7f15e40c",
   "metadata": {},
   "source": [
    "<img src=\"{{site.baseurl}}/images/teamteachhw/glucose_record.png\" alt=\"record\" width=\"1000\">"
   ]
  },
  {
   "cell_type": "markdown",
   "id": "b07f0729",
   "metadata": {},
   "source": [
    "## Frontend Code"
   ]
  },
  {
   "cell_type": "markdown",
   "id": "a79b1957",
   "metadata": {},
   "source": [
    "<img src=\"{{site.baseurl}}/images/teamteachhw/code3.png\" alt=\"code3\" width=\"1000\">"
   ]
  },
  {
   "cell_type": "markdown",
   "id": "198c07e6",
   "metadata": {},
   "source": [
    "## Backend Code"
   ]
  },
  {
   "cell_type": "markdown",
   "id": "3d0c3fec",
   "metadata": {
    "vscode": {
     "languageId": "javascript"
    }
   },
   "source": [
    "<img src=\"{{site.baseurl}}/images/teamteachhw/code4.png\" alt=\"code4\" width=\"1000\">"
   ]
  },
  {
   "cell_type": "markdown",
   "id": "b881e79d",
   "metadata": {},
   "source": [
    "<img src=\"{{site.baseurl}}/images/teamteachhw/code5.png\" alt=\"code5\" width=\"1000\">"
   ]
  },
  {
   "cell_type": "markdown",
   "id": "b187d433",
   "metadata": {},
   "source": [
    "## Test in Postman"
   ]
  },
  {
   "cell_type": "markdown",
   "id": "b1a1908c",
   "metadata": {},
   "source": [
    "<img src=\"{{site.baseurl}}/images/teamteachhw/postmanget.png\" alt=\"postman\" width=\"1000\">"
   ]
  }
 ],
 "metadata": {
  "language_info": {
   "name": "python"
  }
 },
 "nbformat": 4,
 "nbformat_minor": 5
}
