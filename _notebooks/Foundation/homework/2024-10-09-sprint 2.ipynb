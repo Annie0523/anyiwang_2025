{
 "cells": [
  {
   "cell_type": "raw",
   "metadata": {
    "vscode": {
     "languageId": "raw"
    }
   },
   "source": [
    "---\n",
    "layout: post\n",
    "title: Sprint 2 Homework\n",
    "author: Anyi Wang \n",
    "comments: true\n",
    "toc: true\n",
    "---"
   ]
  },
  {
   "cell_type": "markdown",
   "metadata": {},
   "source": [
    "### a. This is why I know my units\n",
    "I learned the basics of Python and Javascript programming by reading and listening to the course websites written by each team.\n",
    "### b. This is how I build a summary in my blog that show how I know or how I will review\n",
    "I keep a notebook (.ipynb) of what I felt and what I struggled with while writing the course, because it allows me to view the code as well as the text, which helps me to review what I've learned.\n",
    "### c. This is how you know I am more than be perfunctory on my learning journey.\n",
    "After listening to the presentations of my classmates, we were required to do popcorn hacks and homework hacks, which were full of creative topics that made me need to further understand and analyze what they had said and design unique codes based on it.\n",
    "### d. Here are some memories from my homework, learning, and teaching\n",
    "The group spent a week creating lessons and collaborating on teaching. If you have trouble with an assignment, ask the group in charge of that section to discuss it and work together to improve.\n",
    "### e. This is how you know my work is distinctive, unique and genuine\n",
    "I used different fonts and colors and emoji to create the course website to make it more personalized and to show the key points clearly. I divided the assignments and lectures into two modules to make the structure more concise."
   ]
  },
  {
   "cell_type": "markdown",
   "metadata": {},
   "source": [
    "# 3.1"
   ]
  },
  {
   "cell_type": "markdown",
   "metadata": {},
   "source": [
    "### Popcorn Hacks"
   ]
  },
  {
   "cell_type": "code",
   "execution_count": null,
   "metadata": {},
   "outputs": [],
   "source": [
    "\n",
    "username = input(\"What is your username?\")\n",
    "user_age = input(\"What is your age?\")\n",
    "user_city = input(\"Which city do you live in?\")\n",
    "\n",
    "user_info_list = [username, user_age, user_city]\n",
    "user_info_dict = {\n",
    "    \"username\": username,\n",
    "    \"age\": user_age,\n",
    "    \"city\": user_city\n",
    "}\n",
    "\n",
    "print(user_info_list)\n",
    "print(user_info_dict)\n",
    "\n",
    "print(\"Hi, my name is \" + username + \", I'm \" + user_age + \" years old,\" + \", and I live in \" + user_city + \".\")\n"
   ]
  },
  {
   "cell_type": "markdown",
   "metadata": {},
   "source": [
    "### Homework Hacks"
   ]
  },
  {
   "cell_type": "code",
   "execution_count": null,
   "metadata": {
    "vscode": {
     "languageId": "javascript"
    }
   },
   "outputs": [],
   "source": [
    "\n",
    "let nameParts = fullName.split(\" \");\n",
    "let initials = nameParts[0][0] + nameParts[0][1]; \n",
    "let randomNum = Math.floor(Math.random() * 100); \n",
    "let uniqueId = initials + randomNum;\n",
    "\n",
    "let personInfo = {\n",
    "  fullName: fullName,\n",
    "  age: age,\n",
    "  email: email,\n",
    "  hobby: hobby,\n",
    "  dietaryPreferences: dietaryPreferences,\n",
    "  uniqueId: uniqueId\n",
    "};\n",
    "\n",
    "console.log(\"Personal Info:\");\n",
    "console.log(`- Full Name: ${personInfo.fullName}`);\n",
    "console.log(`- Age: ${personInfo.age}`);\n",
    "console.log(`- Email: ${personInfo.email}`);\n",
    "console.log(`- Hobby: ${personInfo.hobby}`);\n",
    "console.log(`- Dietary Preferences: ${personInfo.dietaryPreferences}`);\n",
    "console.log(`- Unique ID: ${personInfo.uniqueId}`);"
   ]
  },
  {
   "cell_type": "markdown",
   "metadata": {},
   "source": [
    "# 3.2"
   ]
  },
  {
   "cell_type": "markdown",
   "metadata": {},
   "source": [
    "### Hacks #1"
   ]
  },
  {
   "cell_type": "code",
   "execution_count": null,
   "metadata": {},
   "outputs": [],
   "source": [
    "physics_topics = {\n",
    "    \"Mechanics\": [\n",
    "        \"Newton's Laws\", \n",
    "        \"Work, Energy, and Power\", \n",
    "        \"Circular Motion\", \n",
    "        \"Momentum and Impulse\"\n",
    "    ],\n",
    "    \"Electromagnetism\": [\n",
    "        \"Coulomb's Law\", \n",
    "        \"Electric Fields\", \n",
    "        \"Magnetic Fields\", \n",
    "        \"Electromagnetic Induction\"\n",
    "    ],\n",
    "    \"Thermodynamics\": [\n",
    "        \"Laws of Thermodynamics\", \n",
    "        \"Heat Transfer\", \n",
    "        \"Carnot Cycle\", \n",
    "        \"Entropy\"\n",
    "    ],\n",
    "    \"Optics\": [\n",
    "        \"Reflection and Refraction\", \n",
    "        \"Lenses and Mirrors\", \n",
    "        \"Interference and Diffraction\", \n",
    "        \"Polarization\"\n",
    "    ],\n",
    "}\n",
    "\n",
    "for topic, subtopics in physics_topics.items():\n",
    "    print(f\"\\n{topic}:\")\n",
    "    for subtopic in subtopics:\n",
    "        print(f\"  - {subtopic}\")\n"
   ]
  },
  {
   "cell_type": "markdown",
   "metadata": {},
   "source": [
    "### Hacks #2"
   ]
  },
  {
   "cell_type": "code",
   "execution_count": null,
   "metadata": {},
   "outputs": [],
   "source": [
    "website = {\n",
    "    'About': ['Homwtown', 'Favorite Food', 'Music Taste'],\n",
    "    'Game': ['Snake', 'Cookie Clicker']\n",
    "}\n",
    "\n",
    "print(['About'])\n",
    "if \"Hometown\" in website['About']:\n",
    "    print(True) \n",
    "else:\n",
    "    print(False)"
   ]
  },
  {
   "cell_type": "markdown",
   "metadata": {},
   "source": [
    "### Hacks #3"
   ]
  },
  {
   "cell_type": "code",
   "execution_count": null,
   "metadata": {},
   "outputs": [],
   "source": [
    "ice_cream_log = [\n",
    "    {\n",
    "        \"flavor\": \"Chocolate\",\n",
    "        \"price\": 15.0,\n",
    "        \"date\": \"2024-10-01\",\n",
    "        \"shop\": \"BQ\"\n",
    "    },\n",
    "    {\n",
    "        \"flavor\": \"Strawberry\",\n",
    "        \"price\": 12.5,\n",
    "        \"date\": \"2024-10-03\",\n",
    "        \"shop\": \"Häagen-Dazs\"\n",
    "    },\n",
    "    {\n",
    "        \"flavor\": \"Vanilla\",\n",
    "        \"price\": 16,\n",
    "        \"date\": \"2024-10-05\",\n",
    "        \"shop\": \"Venchi\"\n",
    "    }\n",
    "]\n",
    "\n",
    "for record in ice_cream_log:\n",
    "    print(f\"Date: {record['date']}\")\n",
    "    print(f\"Flavor: {record['flavor']}\")\n",
    "    print(f\"Price: ${record['price']}\")\n",
    "    print(f\"Shop: {record['shop']}\")\n",
    "    print(\"\\n\")"
   ]
  },
  {
   "cell_type": "markdown",
   "metadata": {},
   "source": [
    "### Homework"
   ]
  },
  {
   "cell_type": "code",
   "execution_count": null,
   "metadata": {},
   "outputs": [],
   "source": [
    "ice_cream_flavors = [\n",
    "    {\n",
    "        \"flavor\": \"Chocolate\",                    \n",
    "        \"calories_per_serving\": 210,              \n",
    "        \"price\": 3.50,                            \n",
    "        \"ingredients\": [\"cocoa\", \"sugar\", \"cream\"],  \n",
    "        \"is_dairy_free\": False,                   \n",
    "        \"origin\": (\"France\", 1900),               \n",
    "        \"toppings\": {\"sprinkles\", \"nuts\", \"whipped cream\"},  \n",
    "        \"seasonal\": None                          \n",
    "    },\n",
    "    {\n",
    "        \"flavor\": \"Strawberry\",                   \n",
    "        \"calories_per_serving\": 180,              \n",
    "        \"price\": 3.00,                            \n",
    "        \"ingredients\": [\"strawberries\", \"sugar\", \"cream\"],  \n",
    "        \"is_dairy_free\": False,                   \n",
    "        \"origin\": (\"USA\", 1851),                  \n",
    "        \"toppings\": {\"fresh fruit\", \"granola\"},   \n",
    "        \"seasonal\": \"Summer\"\n",
    "    },                       \n",
    "    {\n",
    "        \"flavor\": \"Mango Sorbet\",                 \n",
    "        \"calories_per_serving\": 150,              \n",
    "        \"price\": 4.00,                           \n",
    "        \"ingredients\": [\"mango puree\", \"sugar\", \"water\"],  \n",
    "        \"is_dairy_free\": True,                   \n",
    "        \"origin\": (\"India\", None),              \n",
    "        \"toppings\": {\"mint leaves\", \"lime zest\"}, \n",
    "        \"seasonal\": None                         \n",
    "    }\n",
    "]\n",
    "\n",
    "for flavor in ice_cream_flavors:\n",
    "    print(f\"Flavor: {flavor['flavor']}\")\n",
    "    print(f\"Calories per Serving: {flavor['calories_per_serving']}\")\n",
    "    print(f\"Price: ${flavor['price']:.2f}\")\n",
    "    print(f\"Ingredients: {', '.join(flavor['ingredients'])}\")\n",
    "    print(f\"Dairy Free: {flavor['is_dairy_free']}\")\n",
    "    print(f\"Origin: {flavor['origin'][0]} ({flavor['origin'][1]})\")\n",
    "    print(f\"Toppings: {', '.join(flavor['toppings'])}\")\n",
    "    print(f\"Seasonal: {flavor['seasonal']}\\n\")"
   ]
  },
  {
   "cell_type": "markdown",
   "metadata": {},
   "source": [
    "# 3.3"
   ]
  },
  {
   "cell_type": "markdown",
   "metadata": {},
   "source": [
    "### Popcorn Hacks"
   ]
  },
  {
   "cell_type": "code",
   "execution_count": null,
   "metadata": {},
   "outputs": [],
   "source": [
    "def output(x):\n",
    "    print(7* x + 22)"
   ]
  },
  {
   "cell_type": "code",
   "execution_count": null,
   "metadata": {},
   "outputs": [],
   "source": [
    "number1 = 8\n",
    "number2 = 3\n",
    "number3 = number1 % number2\n",
    "number4 = number3 * number1 + 70\n",
    "print(number4)\n",
    "num4 = 86"
   ]
  },
  {
   "cell_type": "code",
   "execution_count": null,
   "metadata": {},
   "outputs": [],
   "source": [
    "numbers = [4, 7, 8, 12]\n",
    "for num in numbers:\n",
    "    remainder = num % 3\n",
    "    \n",
    "    if remainder == 0:\n",
    "        print(num, \"is divisible by 3\")\n",
    "    \n",
    "    else:\n",
    "        print(\"The remainder when\", num, \"is divided by 3 is\", remainder)"
   ]
  },
  {
   "cell_type": "markdown",
   "metadata": {},
   "source": [
    "### Homework"
   ]
  },
  {
   "cell_type": "code",
   "execution_count": null,
   "metadata": {},
   "outputs": [],
   "source": [
    "import math\n",
    "\n",
    "def volume_rectangular_prism(base, width, height):\n",
    "    return base * width * height\n",
    "\n",
    "def volume_sphere(radius):\n",
    "    return (4/3) * math.pi * radius**3\n",
    "\n",
    "def volume_pyramid(base, width, height):\n",
    "    return (1/3) * base * width * height\n",
    "\n",
    "# Examples:\n",
    "# Rectangular Prism\n",
    "base = 5\n",
    "width = 6\n",
    "height = 10\n",
    "print(f\"Volume of rectangular prism: {volume_rectangular_prism(base, width, height)}\")\n",
    "\n",
    "# Sphere\n",
    "radius = 6\n",
    "print(f\"Volume of sphere: {volume_sphere(radius)}\")\n",
    "\n",
    "# Pyramid\n",
    "base = 4\n",
    "width = 4\n",
    "height = 9\n",
    "print(f\"Volume of pyramid: {volume_pyramid(base, width, height)}\")\n"
   ]
  },
  {
   "cell_type": "markdown",
   "metadata": {},
   "source": [
    "# 3.4"
   ]
  },
  {
   "cell_type": "markdown",
   "metadata": {},
   "source": [
    "### Python Hacks"
   ]
  },
  {
   "cell_type": "markdown",
   "metadata": {},
   "source": [
    "1: String Analyzation\n",
    "Determine metrics about strings (length, chars, palidrome(?), etc.)"
   ]
  },
  {
   "cell_type": "code",
   "execution_count": null,
   "metadata": {},
   "outputs": [],
   "source": [
    "# Function to analyze string metrics\n",
    "def analyze_string(input_string):\n",
    "    # Length of string\n",
    "    length = len(input_string)\n",
    "    \n",
    "    # Vowel count\n",
    "    vowels = 'aeiouAEIOU'\n",
    "    vowel_count = sum(1 for char in input_string if char in vowels)\n",
    "    \n",
    "    # Character frequency count (ignores spaces)\n",
    "    char_frequency = {}\n",
    "    for char in input_string.replace(\" \", \"\"):\n",
    "        char_frequency[char] = char_frequency.get(char, 0) + 1\n",
    "    \n",
    "    # Check if string is a palindrome (ignores spaces and case)\n",
    "    is_palindrome = input_string.replace(\" \", \"\").lower() == input_string.replace(\" \", \"\").lower()[::-1]\n",
    "    \n",
    "    # Display results\n",
    "    print(f\"String: {input_string}\")\n",
    "    print(f\"Length: {length}\")\n",
    "    print(f\"Vowel Count: {vowel_count}\")\n",
    "    print(f\"Character Frequency: {char_frequency}\")\n",
    "    print(f\"Palindrome or Not? {'Yes' if is_palindrome else 'No'}\")\n",
    "\n",
    "# Test the function with a sample string\n",
    "test_string = \"Icecream tastes good\"\n",
    "analyze_string(test_string)\n"
   ]
  },
  {
   "cell_type": "markdown",
   "metadata": {},
   "source": [
    "2: Password Validator\n",
    "The goal of this homework hack is to create a password validator. A couple examples are given below (Simple and Advanced)"
   ]
  },
  {
   "cell_type": "code",
   "execution_count": null,
   "metadata": {},
   "outputs": [],
   "source": [
    "import string\n",
    "\n",
    "def password_validator(password):\n",
    "    # Check for minimum length of 8 characters\n",
    "    if len(password) < 8:\n",
    "        return \"Password too short. Must be at least 8 characters.\"\n",
    "    \n",
    "    # Check for both uppercase and lowercase letters\n",
    "    if password == password.lower() or password == password.upper():\n",
    "        return \"Password must contain both uppercase and lowercase letters.\"\n",
    "    \n",
    "    # Check for at least one digit\n",
    "    if not any(char.isdigit() for char in password):\n",
    "        return \"Password must contain at least one number.\"\n",
    "    \n",
    "    # Check for at least one special character\n",
    "    special_characters = string.punctuation\n",
    "    if not any(char in special_characters for char in password):\n",
    "        return \"Password must contain at least one special character.\"\n",
    "    \n",
    "    # Optional customization: Replace \"123\" with \"abc\" if present\n",
    "    customized_password = password.replace(\"123\", \"abc\")\n",
    "    \n",
    "    # Further customize by adding dashes between words (assuming password is space-separated)\n",
    "    words = customized_password.split(\" \")\n",
    "    customized_password = \"-\".join(words)\n",
    "    \n",
    "    return f\"Password is valid! Here’s a customized version: {customized_password}\"\n",
    "\n",
    "# Test cases\n",
    "print(password_validator(\"HelloWorld123!\"))  # Should be valid\n",
    "print(password_validator(\"HELLO123\"))        # No lowercase letters\n",
    "print(password_validator(\"helloworld123\"))   # No uppercase letters\n",
    "print(password_validator(\"Hello123\"))        # No special characters\n"
   ]
  },
  {
   "cell_type": "markdown",
   "metadata": {},
   "source": [
    "### Popcorn Hacks"
   ]
  },
  {
   "cell_type": "code",
   "execution_count": null,
   "metadata": {
    "vscode": {
     "languageId": "javascript"
    }
   },
   "outputs": [],
   "source": [
    "function analyzeString(inputString) {\n",
    "    console.log(\"Analyzing String: \" + inputString);\n",
    "\n",
    "    const length = inputString.length;\n",
    "    console.log(\"Length: \" + length);\n",
    "\n",
    "    const upperCaseString = inputString.toUpperCase();\n",
    "    const lowerCaseString = inputString.toLowerCase();\n",
    "    console.log(\"Uppercase: \" + upperCaseString);\n",
    "    console.log(\"Lowercase: \" + lowerCaseString);\n",
    "\n",
    "    const slicedString = inputString.slice(0, 5);\n",
    "    console.log(\"Sliced (first 5 chars): \" + slicedString);\n",
    "\n",
    "    const substring = \"fun\";\n",
    "    const index = inputString.indexOf(substring);\n",
    "    console.log(\"Position of '\" + substring + \"': \" + index);\n",
    "    console.log(\"\"); \n",
    "}\n",
    "\n",
    "const testString = \"I love icecream!\";\n",
    "analyzeString(testString);\n"
   ]
  },
  {
   "cell_type": "markdown",
   "metadata": {},
   "source": [
    "### JavaScript Homework Hacks"
   ]
  },
  {
   "cell_type": "code",
   "execution_count": null,
   "metadata": {
    "vscode": {
     "languageId": "javascript"
    }
   },
   "outputs": [],
   "source": [
    "function isValidPassword(password) {\n",
    "    const minLength = 6; \n",
    "    const hasUpperCase = /[A-Z]/.test(password); \n",
    "    const hasLowerCase = /[a-z]/.test(password); \n",
    "    const hasNumbers = /[0-9]/.test(password); \n",
    "    const hasSpecialChars = /[!@#$%^&*(),.?\":{}|<>]/.test(password); \n",
    "    const isCommonPassword = checkCommonPassword(password); \n",
    "\n",
    "    if (password.length < minLength) {\n",
    "        console.log(\"Password must be at least \" + minLength + \" characters long.\");\n",
    "        return false;\n",
    "    }\n",
    "    if (!hasUpperCase) {\n",
    "        console.log(\"Password must contain at least one uppercase letter.\");\n",
    "        return false;\n",
    "    }\n",
    "    if (!hasLowerCase) {\n",
    "        console.log(\"Password must contain at least one lowercase letter.\");\n",
    "        return false;\n",
    "    }\n",
    "    if (!hasNumbers) {\n",
    "        console.log(\"Password must contain at least one number.\");\n",
    "        return false;\n",
    "    }\n",
    "    if (!hasSpecialChars) {\n",
    "        console.log(\"Password must contain at least one special character.\");\n",
    "        return false;\n",
    "    }\n",
    "    if (isCommonPassword) {\n",
    "        console.log(\"Password is too common. Please choose a different password.\");\n",
    "        return false;\n",
    "    }\n",
    "\n",
    "    console.log(\"Password is valid!\");\n",
    "    return true;\n",
    "}\n"
   ]
  },
  {
   "cell_type": "markdown",
   "metadata": {},
   "source": [
    "# 3.5"
   ]
  },
  {
   "cell_type": "markdown",
   "metadata": {},
   "source": [
    "### Popcorn Hacks"
   ]
  },
  {
   "cell_type": "code",
   "execution_count": null,
   "metadata": {},
   "outputs": [],
   "source": [
    "# Check if a single boolean is true\n",
    "def check_if_true(variable):\n",
    "    if variable:\n",
    "        print(\"The variable is true!\")\n",
    "    else:\n",
    "        print(\"The variable is false!\")\n",
    "\n",
    "# Example usage:\n",
    "variableA = True\n",
    "check_if_true(variableA)\n",
    "\n",
    "# Check if both are true or if either is true\n",
    "def check_both_or_either(variableA, variableB):\n",
    "    if variableA and variableB:\n",
    "        print(\"Both variableA and variableB are true!\")\n",
    "    elif variableA or variableB:\n",
    "        print(\"Either variableA or variableB is true!\")\n",
    "    else:\n",
    "        print(\"Neither variableA nor variableB is true.\")\n",
    "\n",
    "# Example usage:\n",
    "variableA = True\n",
    "variableB = False\n",
    "check_both_or_either(variableA, variableB)"
   ]
  },
  {
   "cell_type": "code",
   "execution_count": null,
   "metadata": {},
   "outputs": [],
   "source": [
    "number = 15\n",
    "if number > 10:\n",
    "    print(\"number is greater than ten!\")\n",
    "else:\n",
    "    print(\"number is not greater than ten!\")"
   ]
  },
  {
   "cell_type": "code",
   "execution_count": null,
   "metadata": {},
   "outputs": [],
   "source": [
    "if number >= 100 and number <= 999:\n",
    "    print(\"number is three digits!\")\n",
    "else:\n",
    "    print(\"number is not three digits!\")"
   ]
  },
  {
   "cell_type": "markdown",
   "metadata": {},
   "source": [
    "### Homework"
   ]
  },
  {
   "cell_type": "code",
   "execution_count": null,
   "metadata": {},
   "outputs": [],
   "source": [
    "def de_morgan_law():\n",
    "    print(\"A      B      !(A and B) == (!A or !B)    !(A or B) == (!A and !B)\")\n",
    "    \n",
    "    values = [False, True]\n",
    "\n",
    "    for A in values:\n",
    "        for B in values:\n",
    "            result1 = not (A and B) == (not A or not B)  # De Morgan's 1st Law\n",
    "            result2 = not (A or B) == (not A and not B)  # De Morgan's 2nd Law\n",
    "            print(f\"{A}  {B}  {result1}              {result2}\")\n",
    "\n",
    "de_morgan_law()"
   ]
  },
  {
   "cell_type": "code",
   "execution_count": null,
   "metadata": {
    "vscode": {
     "languageId": "plaintext"
    }
   },
   "outputs": [],
   "source": [
    "result:\n",
    "A      B      !(A and B) == (!A or !B)    !(A or B) == (!A and !B)\n",
    "False  False  True                         True\n",
    "False  True   True                         True\n",
    "True   False  True                         True\n",
    "True   True   True                         True"
   ]
  },
  {
   "cell_type": "markdown",
   "metadata": {},
   "source": [
    "# 3.6"
   ]
  },
  {
   "cell_type": "markdown",
   "metadata": {},
   "source": [
    "### Homework"
   ]
  },
  {
   "cell_type": "code",
   "execution_count": null,
   "metadata": {},
   "outputs": [],
   "source": [
    "def compare_numbers():\n",
    "    num1 = float(input(\"first number: \"))\n",
    "    num2 = float(input(\"second number: \"))\n",
    "    \n",
    "    if num1 == num2:\n",
    "        print(\"The numbers are equal.\")\n",
    "    else:\n",
    "        if num1 > num2:\n",
    "            print(f\"The larger number is: {num1}\")\n",
    "        else:\n",
    "            print(f\"The larger number is: {num2}\")\n",
    "\n",
    "compare_numbers()\n"
   ]
  },
  {
   "cell_type": "markdown",
   "metadata": {},
   "source": [
    "# 3.7"
   ]
  },
  {
   "cell_type": "markdown",
   "metadata": {},
   "source": [
    "### Homework"
   ]
  },
  {
   "cell_type": "markdown",
   "metadata": {},
   "source": [
    "1: Determine if a Student Passes a Class"
   ]
  },
  {
   "cell_type": "code",
   "execution_count": null,
   "metadata": {},
   "outputs": [],
   "source": [
    "```python\n",
    "IF exam_score >= 60\n",
    "{\n",
    "    IF attendance_percentage >= 75\n",
    "    {\n",
    "        DISPLAY \"Student passes the class\"\n",
    "    }\n",
    "    ELSE\n",
    "    {\n",
    "        DISPLAY \"Student fails due to low attendance\"\n",
    "    }\n",
    "}\n",
    "ELSE\n",
    "{\n",
    "    DISPLAY \"Student fails due to low exam score\"\n",
    "}"
   ]
  },
  {
   "cell_type": "markdown",
   "metadata": {},
   "source": [
    "2: Write a python segment to decide the shipping cost based on the weight of a package and the delivery speed chosen (standard or express) using nested conditionals."
   ]
  },
  {
   "cell_type": "code",
   "execution_count": null,
   "metadata": {},
   "outputs": [],
   "source": [
    "weight = 10  # in kg\n",
    "speed = \"express\"  # can be \"standard\" or \"express\"\n",
    "\n",
    "if weight <= 5:\n",
    "    if speed == \"standard\":\n",
    "        print(\"Shipping cost is $5\")\n",
    "    else:\n",
    "        print(\"Shipping cost is $10\")\n",
    "else:\n",
    "    if speed == \"standard\":\n",
    "        print(\"Shipping cost is $8\")\n",
    "    else:\n",
    "        print(\"Shipping cost is $15\")\n"
   ]
  },
  {
   "cell_type": "markdown",
   "metadata": {},
   "source": [
    "3: Write a python segment to have different ticket prices for different ages, with a discount for students"
   ]
  },
  {
   "cell_type": "code",
   "execution_count": null,
   "metadata": {},
   "outputs": [],
   "source": [
    "age = 22  # age of the person\n",
    "is_student = True  # True or False depending on student status\n",
    "\n",
    "if age < 13:\n",
    "    print(\"Ticket price is $5\")\n",
    "elif age < 19:\n",
    "    print(\"Ticket price is $8\")\n",
    "else:\n",
    "    if is_student:\n",
    "        print(\"Ticket price is $10 (student discount)\")\n",
    "    else:\n",
    "        print(\"Ticket price is $15\")\n"
   ]
  },
  {
   "cell_type": "markdown",
   "metadata": {},
   "source": [
    "challenge"
   ]
  },
  {
   "cell_type": "code",
   "execution_count": null,
   "metadata": {},
   "outputs": [],
   "source": [
    "a = float(input(\"Enter side a: \"))\n",
    "b = float(input(\"Enter side b: \"))\n",
    "c = float(input(\"Enter side c: \"))\n",
    "\n",
    "if a > 0 and b > 0 and c > 0:\n",
    "    if a + b > c and a + c > b and b + c > a:\n",
    "        if a == b == c:\n",
    "            print(\"This is an equilateral triangle.\")\n",
    "        elif a == b or b == c or a == c:\n",
    "            print(\"This is an isosceles triangle.\")\n",
    "        else:\n",
    "            print(\"This is a scalene triangle.\")\n",
    "    else:\n",
    "        print(\"The given sides do not form a valid triangle.\")\n",
    "else:\n",
    "    print(\"All sides must be positive numbers.\")"
   ]
  },
  {
   "cell_type": "markdown",
   "metadata": {},
   "source": [
    "# 3.8"
   ]
  },
  {
   "cell_type": "markdown",
   "metadata": {},
   "source": [
    "### Popcorn Hacks"
   ]
  },
  {
   "cell_type": "markdown",
   "metadata": {},
   "source": [
    "#1"
   ]
  },
  {
   "cell_type": "code",
   "execution_count": null,
   "metadata": {},
   "outputs": [],
   "source": [
    "ticket_price1 = 10.00\n",
    "age = int(input(\"Please enter your age: \"))\n",
    "\n",
    "if age <= 12:\n",
    "    ticket_price = ticket_price1 * 0.5  \n",
    "    print(f\"Child ticket price: ${ticket_price:.2f}\")\n",
    "elif age <= 63:\n",
    "    ticket_price = ticket_price1  \n",
    "    print(f\"Adult ticket price: ${ticket_price:.2f}\")\n",
    "else:\n",
    "    ticket_price = ticket_price1 * 0.7  \n",
    "    print(f\"Senior ticket price: ${ticket_price:.2f}\")\n",
    "\n",
    "has_ticket = input(\"Do you have a ticket? (yes/no): \").lower() == \"yes\"\n",
    "\n",
    "if has_ticket:\n",
    "    while True:\n",
    "        is_student = input(\"Are you a student? (yes/no): \").lower()\n",
    "        if is_student == \"yes\":\n",
    "            student_discount = 0.20 \n",
    "            final_price = ticket_price * (1 - student_discount)\n",
    "            print(f\"You are eligible for a student discount! The ticket price is now: ${final_price:.2f}\")\n",
    "            break\n",
    "        elif is_student == \"no\":\n",
    "            print(f\"No student discount applied. The ticket price is: ${ticket_price:.2f}\")\n",
    "            break\n",
    "        else:\n",
    "            print('Invalid response. Please answer with \"yes\" or \"no\".')\n",
    "else:\n",
    "    print(\"You need a ticket to enter.\")\n"
   ]
  },
  {
   "cell_type": "markdown",
   "metadata": {},
   "source": [
    "#2"
   ]
  },
  {
   "cell_type": "code",
   "execution_count": null,
   "metadata": {},
   "outputs": [],
   "source": [
    "try:\n",
    "    num = int(input(\"Enter a number: \"))  \n",
    "    result = 10 / num  \n",
    "    print(\"Result:\", result)\n",
    "except ValueError:\n",
    "    print(\"That's not a valid number\")\n",
    "except ZeroDivisionError:\n",
    "    print(\"0 can't be put in\")\n",
    "else:\n",
    "    print(\"success\")\n",
    "    \n",
    "    if num % 2 == 0:\n",
    "        print(f\"The number {num} is even.\")\n",
    "    else:\n",
    "        print(f\"The number {num} is odd.\")"
   ]
  },
  {
   "cell_type": "markdown",
   "metadata": {},
   "source": [
    "### Homework"
   ]
  },
  {
   "cell_type": "code",
   "execution_count": null,
   "metadata": {},
   "outputs": [],
   "source": [
    "def get_positive_number():\n",
    "    while True:\n",
    "        try:\n",
    "            num = float(input(\"Please enter a positive number: \"))\n",
    "            if num > 0:\n",
    "                print(f\"Success! You entered: {num}\")\n",
    "                break\n",
    "            else:\n",
    "                print(\"Try again. The number has to be positive.\")\n",
    "        except ValueError:\n",
    "            print(\"Error! That's not a valid number. Please enter a number.\")\n",
    "\n",
    "get_positive_number()"
   ]
  },
  {
   "cell_type": "markdown",
   "metadata": {},
   "source": [
    "# 3.10"
   ]
  },
  {
   "cell_type": "markdown",
   "metadata": {},
   "source": [
    "### Popcorn Hacks 1"
   ]
  },
  {
   "cell_type": "code",
   "execution_count": null,
   "metadata": {},
   "outputs": [],
   "source": [
    "my_list = ['pepperoni', 'cheese', 'pinapple']\n",
    "my_list.append('basil')\n",
    "print(my_list)\n"
   ]
  },
  {
   "cell_type": "markdown",
   "metadata": {},
   "source": [
    "### Popcorn Hacks 2"
   ]
  },
  {
   "cell_type": "code",
   "execution_count": null,
   "metadata": {},
   "outputs": [],
   "source": [
    "alist = ['pepperoni', 'cheese', 'pinapple']\n",
    "alist.insert('cheese', 'a')"
   ]
  },
  {
   "cell_type": "code",
   "execution_count": null,
   "metadata": {},
   "outputs": [],
   "source": [
    "alist = ['pepperoni', 'cheese', 'pinapple']\n",
    "alist.remove('pinnaple')\n",
    "print(alist)"
   ]
  },
  {
   "cell_type": "markdown",
   "metadata": {},
   "source": [
    "### Popcorn Hacks 3"
   ]
  },
  {
   "cell_type": "code",
   "execution_count": null,
   "metadata": {},
   "outputs": [],
   "source": [
    "alist = ['pepperoni', 'cheese', 'pinapple']\n",
    "alist[1] = 'mushroom'\n",
    "print(alist)"
   ]
  },
  {
   "cell_type": "markdown",
   "metadata": {},
   "source": [
    "### Homework"
   ]
  },
  {
   "cell_type": "code",
   "execution_count": null,
   "metadata": {},
   "outputs": [],
   "source": [
    "nums = [1, 2, 3, 4, 5, 6, 7, 8, 9, 10]\n",
    "even_sum = 0\n",
    "\n",
    "for score in nums:\n",
    "    if score % 2 == 0:\n",
    "        even_sum += score\n",
    "\n",
    "print(\"Sum of even numbers in the list:\", even_sum)"
   ]
  },
  {
   "cell_type": "code",
   "execution_count": null,
   "metadata": {},
   "outputs": [],
   "source": [
    "nums = [1, 2, 3, 4, 5, 6, 7, 8, 9, 10]\n",
    "\n",
    "min_value = min(nums) \n",
    "max_value = max(nums) \n",
    "\n",
    "print(\"Minimum value:\", min_value)\n",
    "print(\"Maximum value:\", max_value)"
   ]
  }
 ],
 "metadata": {
  "language_info": {
   "name": "python"
  }
 },
 "nbformat": 4,
 "nbformat_minor": 2
}
