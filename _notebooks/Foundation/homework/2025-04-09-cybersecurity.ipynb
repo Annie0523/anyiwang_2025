{
 "cells": [
  {
   "cell_type": "raw",
   "id": "ae793173",
   "metadata": {
    "vscode": {
     "languageId": "raw"
    }
   },
   "source": [
    "---\n",
    "layout: post\n",
    "title: Cybersecurity and the Future of Work\n",
    "author: Anyi Wang \n",
    "comments: true\n",
    "toc: true\n",
    "---"
   ]
  },
  {
   "cell_type": "markdown",
   "id": "923f6e4d",
   "metadata": {},
   "source": [
    "# Cybersecurity Notes\n",
    "\n",
    "## Landscape - Real-World Track\n",
    "- Cybersecurity is deeply connected to real-world scenarios and threats.\n",
    "- **Ransomware**: Attackers encrypt data and demand ransom; it’s highly satisfying for professionals to track down and stop these cybercriminals.\n",
    "- Focus on **data security**: Protecting the confidentiality and integrity of information is a top priority.\n",
    "- Agreements and reports are crucial when it comes to data theft—responsible disclosure matters.\n",
    "- Major threats include:\n",
    "  - Companies being shut down by attacks.\n",
    "  - Intellectual property (IP) being stolen.\n",
    "- **Phishing attacks**: Users are tricked into clicking malicious links, making systems vulnerable.\n",
    "- **Artificial Intelligence (AI)** is now used both by attackers and defenders in the cybersecurity field.\n",
    "\n",
    "---\n",
    "\n",
    "## Ethical Concerns in Society\n",
    "- Ethical issues arise when using the same technologies as hackers to protect systems.\n",
    "- Stay alert to **backdoors** and be familiar with different security **frameworks**.\n",
    "- **Moral responsibility**: Use cybersecurity knowledge ethically and responsibly.\n",
    "- **Legal responsibility**: Follow laws and regulations related to data protection and cybercrime.\n",
    "- **Integrity**: Maintain professionalism, trust, and ethical behavior in all situations.\n",
    "\n",
    "---\n",
    "\n",
    "## Career Opportunities\n",
    "- Fields include: penetration testing, cybersecurity analysis, incident response, security architecture, risk management, and more.\n",
    "- Stay **curious**—continuous learning is essential.\n",
    "- Learn from **real-world scenarios**; hands-on experience builds true skill.\n",
    "- Be **patient**—cybersecurity problems are complex and require thoughtful solutions.\n",
    "\n",
    "---\n",
    "\n",
    "## Future of Cybersecurity\n",
    "- **AI** will continue to shape the future of cybersecurity—both as a tool and a threat.\n",
    "- Be aware of what **other countries** are doing in terms of cybersecurity policies, technologies, and threats.\n",
    "- Keep **digging in**, exploring deeply, and adapting to new challenges.\n",
    "\n"
   ]
  }
 ],
 "metadata": {
  "language_info": {
   "name": "python"
  }
 },
 "nbformat": 4,
 "nbformat_minor": 5
}
