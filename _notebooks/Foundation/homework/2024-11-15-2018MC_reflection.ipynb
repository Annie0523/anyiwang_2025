{
 "cells": [
  {
   "cell_type": "raw",
   "metadata": {
    "vscode": {
     "languageId": "raw"
    }
   },
   "source": [
    "---\n",
    "layout: post\n",
    "title: 2018 MC Reflection\n",
    "author: Anyi Wang \n",
    "comments: true\n",
    "toc: true\n",
    "---"
   ]
  },
  {
   "cell_type": "markdown",
   "metadata": {},
   "source": [
    "# What I Learned:"
   ]
  },
  {
   "cell_type": "markdown",
   "metadata": {},
   "source": [
    "- Topic Familiarity: I realized that I have a solid grasp of fundamental concepts but still need to reinforce my understanding of more nuanced details.\n",
    "- Time Management: The quiz helped me identify areas where I need to improve my speed, especially in questions that require complex calculations or deeper critical thinking.\n",
    "- Testing Strategies: I learned the importance of reading questions carefully, as some of the questions were more challenging due to tricky wording."
   ]
  },
  {
   "cell_type": "markdown",
   "metadata": {},
   "source": [
    "# Weak Areas"
   ]
  },
  {
   "cell_type": "markdown",
   "metadata": {},
   "source": [
    "- Conceptual Questions: I struggled most with theoretical questions that required detailed explanations or understanding of exceptions. For example, questions involving specific conditions for applying certain theorems or laws were challenging.\n",
    "- Multi-step Calculations: I found myself taking too long on questions that involved multiple calculation steps, particularly in physics-related problems where formulas need to be applied in sequence.\n",
    "- Topics need to review: 3.1, 4.1"
   ]
  },
  {
   "cell_type": "markdown",
   "metadata": {},
   "source": [
    "# Quiz Correction"
   ]
  },
  {
   "cell_type": "markdown",
   "metadata": {},
   "source": [
    "- [Link to the quiz correction](https://docs.google.com/document/d/1_uZRxDUufhBW3P9akVjuADTvKsbi_crkoG-JB15QsU8/edit?usp=sharing)"
   ]
  }
 ],
 "metadata": {
  "language_info": {
   "name": "python"
  }
 },
 "nbformat": 4,
 "nbformat_minor": 2
}
