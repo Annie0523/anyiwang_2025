{
 "cells": [
  {
   "cell_type": "raw",
   "id": "dcaae784",
   "metadata": {
    "vscode": {
     "languageId": "raw"
    }
   },
   "source": [
    "---\n",
    "layout: post\n",
    "title: Final Review of the Course\n",
    "author: Anyi Wang \n",
    "comments: true\n",
    "toc: true\n",
    "---"
   ]
  },
  {
   "cell_type": "markdown",
   "id": "5e584e6d",
   "metadata": {},
   "source": [
    "## 🧑‍💻 First Encounter with Programming\n",
    "\n",
    "* This year marked my very first exposure to coding.\n",
    "* I gradually learned about the difference between **frontend and backend development**, and how they connect.\n",
    "* I built my **personal website** to compile and display all of my journals throughout the course.\n",
    "\n",
    "## 🤝 Second Semester Project: Challenges and Growth\n",
    "\n",
    "* The second semester project was extremely challenging—it was my **first time collaborating with other students** to build a website.\n",
    "* We faced many difficulties, especially in **communication and teamwork**.\n",
    "* However, this became a turning point for me.\n",
    "* This approach helped me adapt to a more professional mindset, and I **became more confident** during presentations.\n",
    "* Being treated as a serious contributor and a real programmer gave me valuable experience and **prepared me for future career challenges**.\n",
    "\n",
    "## 🚀 Third Semester Project: Real Progress\n",
    "\n",
    "* I made **significant progress** in the third semester.\n",
    "* I was able to **collaborate better with my team**, divide tasks efficiently, and openly exchange ideas.\n",
    "* Our project, **GlucoQuest**, was a huge success.\n",
    "* It was a **real-world collaboration with a company**, which allowed me to gain hands-on experience in **website development**.\n",
    "\n",
    "## 🌐 Career Preparation\n",
    "\n",
    "* This experience inspired me to create my own **LinkedIn profile**.\n",
    "* I started building **connections with real companies**, which was a major step forward in my professional journey.\n",
    "* The skills I gained from APCSP laid a strong foundation for my future in the tech industry.\n",
    "\n"
   ]
  }
 ],
 "metadata": {
  "language_info": {
   "name": "python"
  }
 },
 "nbformat": 4,
 "nbformat_minor": 5
}
