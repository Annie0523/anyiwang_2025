{
 "cells": [
  {
   "cell_type": "raw",
   "id": "898ec766",
   "metadata": {
    "vscode": {
     "languageId": "raw"
    }
   },
   "source": [
    "---\n",
    "layout: post\n",
    "title: Counting Down the Days\n",
    "author: Anyi Wang \n",
    "comments: true\n",
    "toc: true\n",
    "---"
   ]
  },
  {
   "cell_type": "markdown",
   "id": "3370870f",
   "metadata": {},
   "source": [
    "**Key Adjustments:**  \n",
    "- **4/25-4/30**: Front-loaded CPT finalization.  \n",
    "- **5/1-5/15**: Exam-focused prep with rest days.  \n",
    "\n",
    "---\n",
    "\n",
    "#### **Phase 1: CPT Crunch (4/25 - 4/30)**  \n",
    "**GOAL: Submit bulletproof CPT portfolio by 4/30.**  \n"
   ]
  },
  {
   "cell_type": "markdown",
   "id": "46913dd1",
   "metadata": {},
   "source": [
    "| Date         | Task                                                                                                                                                          | Time Needed |\n",
    "|--------------|---------------------------------------------------------------------------------------------------------------------------------------------------------------|-------------|\n",
    "| **4/25**     | **Finalize Code**<br>– Ensure all procedures are commented (e.g., `// Sorts list in ascending order`).<br>– Test edge cases (e.g., empty inputs).<br>– Record **1-min video** (script: *\"My program [function]. For example, input [X] → output [Y].\"*). | 3–4 hrs     |\n",
    "| **4/26**     | **Polish PDF**<br>– Add 2+ **screenshots of debugging** (label like *\"Fixed off-by-one error in loop\"*).<br>– Write 2-paragraph \"Development Process\" (mention collaboration if applicable). | 2 hrs       |\n",
    "| **4/27**     | **Peer Review**<br>– Have a classmate test your program + review docs. Fix last-minute issues.                                                                | 1–2 hrs     |\n",
    "| **4/28**     | **Submit CPT**<br>– Upload **video, PDF, and program** to College Board portal.<br>– **Triple-check**: Filenames match requirements, all files open correctly. | 1 hr        |\n",
    "| **4/29–4/30**| **Contingency Days**<br>– Buffer time for tech issues or last edits. **DO NOT WAIT UNTIL 4/30 11:59 PM!**                                                      | As needed   |\n"
   ]
  },
  {
   "cell_type": "markdown",
   "id": "82aaa5e1",
   "metadata": {},
   "source": [
    "\n",
    "**CPT Submission Checklist:**  \n",
    "✅ Code runs without errors + has **//comments**.  \n",
    "✅ Video: **≤1 min**, mentions **purpose, input, output**.  \n",
    "✅ PDF: **Screenshots + written responses** (2+ challenges, development process).  \n",
    "\n",
    "---\n",
    "\n",
    "#### **Phase 2: Exam Prep (5/1 - 5/12)**  \n",
    "**GOAL: Master units + FRQ strategies.**  "
   ]
  },
  {
   "cell_type": "markdown",
   "id": "d62c73e0",
   "metadata": {},
   "source": [
    "| Date     | Focus Area                    | Task                                                                                     |\n",
    "|----------|-------------------------------|------------------------------------------------------------------------------------------|\n",
    "| **5/1**  | Unit 1: Digital Info          | Drill binary/hex conversions; watch College Board Topic 1.1 video.                      |\n",
    "| **5/2**  | Unit 2: The Internet          | Diagram how DNS works; compare HTTP/HTTPS.                                              |\n",
    "| **5/3**  | Unit 3: Programming           | Practice writing functions with returns (e.g., `calculate_average`).                   |\n",
    "| **5/4**  | Unit 4: Algorithms            | Trace binary search (Big O: *O(log n)*). Write pseudocode.                              |\n",
    "| **5/5**  | **Rest Day**                  | Light review (e.g., flashcards).                                                        |\n",
    "| **5/6**  | Unit 5: Data Analysis         | Analyze a dataset for bias (e.g., skewed survey samples).                               |\n",
    "| **5/7**  | Unit 6: Simulations           | Explain why simulations are used (e.g., weather models).                                |\n",
    "| **5/8**  | Unit 7-8: Security + Innovations | Memorize encryption types; list 3 innovations (e.g., blockchain).                   |\n",
    "| **5/9**  | FRQ Practice 1                | Solve 2 list/iteration FRQs (time: 15 mins each).                                       |\n",
    "| **5/10** | FRQ Practice 2                | Focus on code tracing (e.g., nested loops).                                             |\n"
   ]
  },
  {
   "cell_type": "markdown",
   "id": "7cd9f631",
   "metadata": {},
   "source": [
    "---"
   ]
  },
  {
   "cell_type": "markdown",
   "id": "8446f5cf",
   "metadata": {},
   "source": [
    "#### **Phase 3: Final Review (5/13 - 5/15)**  \n",
    "**GOAL: Build confidence + test-taking stamina.**  \n",
    "\n"
   ]
  },
  {
   "cell_type": "markdown",
   "id": "589388fd",
   "metadata": {},
   "source": [
    "| Date     | Task                                                                                                                                       |\n",
    "|----------|--------------------------------------------------------------------------------------------------------------------------------------------|\n",
    "| **5/13** | **Concept Blitz**<br>– Review error journal + Khan Academy quizzes.<br>– Skim **Big O, encryption, data bias**.                          |\n",
    "| **5/14** | **Full Mock Exam**<br>– 70-min MCQ section (use College Board sample questions).<br>– 60-min FRQ section (2 prompts). Simulate test conditions! |\n",
    "| **5/15** | **Exam Day**<br>– **Morning**: Glance at cheat sheet (see below).<br>– **Pack**: ID, pencils, calculator, snacks. **Arrive early!**      |\n"
   ]
  },
  {
   "cell_type": "markdown",
   "id": "b322a854",
   "metadata": {},
   "source": [
    "\n",
    "---\n",
    "\n",
    "### **Critical Tools**  \n",
    "1. **CPT Backup Plan**:  \n",
    "   - Save files in **Google Drive + USB** labeled:  \n",
    "     `[YourName]_APCSP_PT_[Program/Video/PDF]`.  \n",
    "2. **FRQ Cheat Sheet** (Sticky Note):  \n",
    "   ```  \n",
    "   - Lists: `myList.append(x)`, `len(myList)`  \n",
    "   - Loops: `for i in range(n):` → O(n) time  \n",
    "   - Encryption: Symmetric (AES) = fast; Asymmetric (RSA) = secure  \n",
    "   ```  "
   ]
  }
 ],
 "metadata": {
  "language_info": {
   "name": "python"
  }
 },
 "nbformat": 4,
 "nbformat_minor": 5
}
