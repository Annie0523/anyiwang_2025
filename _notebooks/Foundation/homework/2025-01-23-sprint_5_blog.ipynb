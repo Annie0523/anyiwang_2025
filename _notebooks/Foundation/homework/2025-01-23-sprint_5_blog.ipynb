{
 "cells": [
  {
   "cell_type": "raw",
   "metadata": {
    "vscode": {
     "languageId": "raw"
    }
   },
   "source": [
    "---\n",
    "layout: post\n",
    "title: Sprint 5\n",
    "author: Anyi Wang \n",
    "comments: true\n",
    "toc: true\n",
    "---"
   ]
  },
  {
   "cell_type": "markdown",
   "metadata": {},
   "source": [
    "# Project Purpose"
   ]
  },
  {
   "cell_type": "markdown",
   "metadata": {},
   "source": [
    "### Purpose for the Group Project"
   ]
  },
  {
   "cell_type": "markdown",
   "metadata": {},
   "source": [
    "The purpose of our group's program, The Travelers, is to serve as a comprehensive platform for travelers, offering convenience and fostering interest in exploration."
   ]
  },
  {
   "cell_type": "markdown",
   "metadata": {},
   "source": [
    "### Purpose for My Individual Feature (CPT Requirement)"
   ]
  },
  {
   "cell_type": "markdown",
   "metadata": {},
   "source": [
    "#### Feature 1 - Landscape\n",
    "- This section displays globally famous landscapes, allowing users to explore and visualize iconic travel destinations. It provides descriptions and images, enhancing the user’s knowledge of different locations.\n",
    "#### Feature 2 - Post System\n",
    "- Users can share travel experiences by sending text. They can also collect posts in their profiles for future reference and social engagement. This feature promotes community interaction and allows users to document their journeys."
   ]
  },
  {
   "cell_type": "markdown",
   "metadata": {},
   "source": [
    "## Reflect & Conclude"
   ]
  },
  {
   "cell_type": "markdown",
   "metadata": {},
   "source": [
    "During this period of study, I learned how to create a dynamic database on the backend to store landscape data and successfully implemented interaction with the frontend. I became familiar with basic database operations, such as creating, reading, updating, and deleting (CRUD) data. Using Postman, I simulated adding and deleting data to test the functionality and reliability of backend APIs.  \n",
    "\n",
    "Additionally, I applied these features to the frontend by sending requests to the backend, enabling dynamic updates and displays of data. This process gave me a deeper understanding of the collaboration between backend and frontend development and enhanced my proficiency in API calls and data interaction."
   ]
  },
  {
   "cell_type": "markdown",
   "metadata": {},
   "source": [
    "## Working Plan"
   ]
  },
  {
   "cell_type": "markdown",
   "metadata": {},
   "source": [
    "After confirming the theme of our group website, **Travel**, I immediately created a to-do list on my own, including a burndown for each task."
   ]
  },
  {
   "cell_type": "markdown",
   "metadata": {},
   "source": [
    "<img src=\"{{site.baseurl}}/images/sprint5/kanban.png\" alt=\"Kanban Board\" width=\"1000\">"
   ]
  },
  {
   "cell_type": "markdown",
   "metadata": {},
   "source": [
    "## Working Journal"
   ]
  },
  {
   "cell_type": "markdown",
   "metadata": {},
   "source": [
    "#### Create a Database in Backend"
   ]
  },
  {
   "cell_type": "markdown",
   "metadata": {},
   "source": [
    "Here's `model/landscape.py`"
   ]
  },
  {
   "cell_type": "markdown",
   "metadata": {},
   "source": [
    "<img src=\"{{site.baseurl}}/images/sprint5/model table create.png\" alt=\"database table create\" width=\"1000\">"
   ]
  },
  {
   "cell_type": "markdown",
   "metadata": {},
   "source": [
    "<img src=\"{{site.baseurl}}/images/sprint5/model tabel data.png\" alt=\"database table data\" width=\"1000\">"
   ]
  },
  {
   "cell_type": "markdown",
   "metadata": {},
   "source": [
    "Here's the database table"
   ]
  },
  {
   "cell_type": "markdown",
   "metadata": {},
   "source": [
    "<img src=\"{{site.baseurl}}/images/sprint5/database.png\" alt=\"database(.db))\" width=\"1000\">"
   ]
  },
  {
   "cell_type": "markdown",
   "metadata": {},
   "source": [
    "#### Add/Delete Data"
   ]
  },
  {
   "cell_type": "markdown",
   "metadata": {},
   "source": [
    "addition in `model/landscape.py`"
   ]
  },
  {
   "cell_type": "markdown",
   "metadata": {},
   "source": [
    "<img src=\"{{site.baseurl}}/images/sprint5/model tabel add delete restore function.png\" alt=\"model add delete restore function\" width=\"1000\">"
   ]
  },
  {
   "cell_type": "markdown",
   "metadata": {},
   "source": [
    "I add an `api/landscape.py` in order to have a host to run"
   ]
  },
  {
   "cell_type": "markdown",
   "metadata": {},
   "source": [
    "<img src=\"{{site.baseurl}}/images/sprint5/api connect to model.png\" alt=\"api connect to model\" width=\"1000\">"
   ]
  },
  {
   "cell_type": "markdown",
   "metadata": {},
   "source": [
    "After that, I test them in postman"
   ]
  },
  {
   "cell_type": "markdown",
   "metadata": {},
   "source": [
    "<img src=\"{{site.baseurl}}/images/sprint5/add in postman.png\" alt=\"test adding in postman\" width=\"1000\">"
   ]
  },
  {
   "cell_type": "markdown",
   "metadata": {},
   "source": [
    "<img src=\"{{site.baseurl}}/images/sprint5/delete in postman.png\" alt=\"test deleting in postman\" width=\"1000\">"
   ]
  },
  {
   "cell_type": "markdown",
   "metadata": {},
   "source": [
    "#### Initialize, Backup & Restore Data"
   ]
  },
  {
   "cell_type": "markdown",
   "metadata": {},
   "source": [
    "I also restored my data in backend. After writing the content to be stored in `main.py`, I ran `db_backup.py` and obtained a JSON file that stores the landscape data."
   ]
  },
  {
   "cell_type": "markdown",
   "metadata": {},
   "source": [
    "<img src=\"{{site.baseurl}}/images/sprint5/data backuped in json.png\" alt=\"json data stored\" width=\"1000\">"
   ]
  },
  {
   "cell_type": "markdown",
   "metadata": {},
   "source": [
    "This way, even if I accidentally delete some data, I can restore it by running `db_restore.py` to retrieve it from the backup."
   ]
  },
  {
   "cell_type": "markdown",
   "metadata": {},
   "source": [
    "#### Connect Backend to Frontend"
   ]
  },
  {
   "cell_type": "markdown",
   "metadata": {},
   "source": [
    "I fetch the data in backend to frontend"
   ]
  },
  {
   "cell_type": "markdown",
   "metadata": {},
   "source": [
    "<img src=\"{{site.baseurl}}/images/sprint5/frontend fetch backend.png\" alt=\"fetch backend and frontend\" width=\"1000\">"
   ]
  },
  {
   "cell_type": "markdown",
   "metadata": {},
   "source": [
    "After doing that, the data is showing in frontend as a table that contain landscapes and more details"
   ]
  },
  {
   "cell_type": "markdown",
   "metadata": {},
   "source": [
    "<img src=\"{{site.baseurl}}/images/sprint5/data show in frontend.png\" alt=\"frontend website table\" width=\"1000\">"
   ]
  },
  {
   "cell_type": "markdown",
   "metadata": {},
   "source": [
    "I also apply the add function to my frontend"
   ]
  },
  {
   "cell_type": "markdown",
   "metadata": {},
   "source": [
    "<img src=\"{{site.baseurl}}/images/sprint5/add landscape in frontend.png\" alt=\"frontend web site add new landscape\" width=\"1000\">"
   ]
  },
  {
   "cell_type": "markdown",
   "metadata": {},
   "source": [
    "Here is the result"
   ]
  },
  {
   "cell_type": "markdown",
   "metadata": {},
   "source": [
    "<img src=\"{{site.baseurl}}/images/sprint5/new data show after add.png\" alt=\"frontend website table new\" width=\"1000\">"
   ]
  },
  {
   "cell_type": "markdown",
   "metadata": {},
   "source": [
    "### Future Plan"
   ]
  },
  {
   "cell_type": "markdown",
   "metadata": {},
   "source": [
    "I will continue to improve on the existing foundation, attempting to add the functionality of storing photos in the database and allowing users to upload photos on frontend."
   ]
  },
  {
   "cell_type": "markdown",
   "metadata": {},
   "source": [
    "### Important Knowledge"
   ]
  },
  {
   "cell_type": "markdown",
   "metadata": {},
   "source": [
    "- **Formatting response data (JSON) from API into DOM**\n",
    "    - When an API returns data in JSON format, the frontend must process and display it dynamically in the Document Object Model (DOM).\n",
    "    - How it works: \n",
    "        - The API sends JSON data.\n",
    "        - The JavaScript `fetch` function retrieves it.\n",
    "        - The JSON response is parsed and displayed dynamically in the browser.\n",
    "    - Explaination of code\n",
    "        - The fetchLandscapes function makes an asynchronous request to the API.\n",
    "\n",
    "        - If the response is successful, the JSON data is parsed and passed to displayLandscapes.\n",
    "\n",
    "        - The displayLandscapes function dynamically creates table rows (<tr>) and cells (<td>) to display the data."
   ]
  },
  {
   "cell_type": "code",
   "execution_count": null,
   "metadata": {
    "vscode": {
     "languageId": "javascript"
    }
   },
   "outputs": [],
   "source": [
    "const pythonURI = (() => {\n",
    "    if (location.hostname === \"localhost\" || location.hostname === \"127.0.0.1\") {\n",
    "        return \"http://127.0.0.1:8402\"; // Local development\n",
    "    } else {\n",
    "        return \"https://flask2025.nighthawkcodingsociety.com\"; // Production\n",
    "    }\n",
    "})();\n",
    "\n",
    "async function fetchLandscapes() {\n",
    "    try {\n",
    "        const response = await fetch(`${pythonURI}/api/landscapes`);\n",
    "        if (!response.ok) {\n",
    "            throw new Error(`HTTP error! Status: ${response.status}`);\n",
    "        }\n",
    "        const landscapeData = await response.json();\n",
    "        displayLandscapes(landscapeData);\n",
    "    } catch (error) {\n",
    "        console.error('Error fetching landscapes:', error);\n",
    "    }\n",
    "}\n",
    "\n",
    "function displayLandscapes(landscapeData) {\n",
    "    const resultContainer = document.getElementById('result');\n",
    "    resultContainer.innerHTML = ''; // Clear previous content\n",
    "\n",
    "    landscapeData.forEach(landscape => {\n",
    "        const tr = document.createElement('tr');\n",
    "        const name = document.createElement('td');\n",
    "        const country = document.createElement('td');\n",
    "        const city = document.createElement('td');\n",
    "        const description = document.createElement('td');\n",
    "\n",
    "        name.textContent = landscape.name; // Use textContent for security\n",
    "        country.textContent = landscape.country;\n",
    "        city.textContent = landscape.city;\n",
    "        description.textContent = landscape.description;\n",
    "\n",
    "        tr.appendChild(name);\n",
    "        tr.appendChild(country);\n",
    "        tr.appendChild(city);\n",
    "        tr.appendChild(description);\n",
    "        resultContainer.appendChild(tr);\n",
    "    });\n",
    "}"
   ]
  },
  {
   "cell_type": "markdown",
   "metadata": {},
   "source": [
    "- **Queries from the database where you extract a Python List (rows)**\n",
    "    - In many web applications, database queries return lists of rows, which represent multiple records from a table.\n",
    "    - Third-Party Libraries Used: `SQLite3`\n",
    "    - Explaination of code:\n",
    "        - The  `get_all_landscapes` method queries the database to retrieve all records from the landscapes table.\n",
    "\n",
    "        - Each record is serialized into a dictionary using the `read` method.\n",
    "\n",
    "        - If an error occurs, it is logged, and an empty list is returned."
   ]
  },
  {
   "cell_type": "code",
   "execution_count": null,
   "metadata": {},
   "outputs": [],
   "source": [
    "@staticmethod\n",
    "def get_all_landscapes():\n",
    "    \"\"\"\n",
    "    Retrieves all landscapes from the database and returns them as a list of dictionaries.\n",
    "    \"\"\"\n",
    "    try:\n",
    "        landscapes = Landscape.query.all()\n",
    "        return [landscape.serialize() for landscape in landscapes]\n",
    "    except Exception as e:\n",
    "        logging.warning(f\"Error retrieving landscapes: {str(e)}\")\n",
    "        return []\n",
    "\n",
    "def read(self):\n",
    "    \"\"\"\n",
    "    Converts a Landscape object into a dictionary.\n",
    "    \"\"\"\n",
    "    return {\n",
    "        'id': self.id,\n",
    "        'name': self.name,\n",
    "        'country': self.country,\n",
    "        'city': self.city,\n",
    "        'description': self.description\n",
    "    }"
   ]
  },
  {
   "cell_type": "markdown",
   "metadata": {},
   "source": [
    "- **Methods in \"Class\" to Work with Columns (Create, Read, Update, Delete)**\n",
    "    - Object-oriented programming (OOP) allows us to encapsulate database operations in a class. This improves code organization and maintainability.\n",
    "    - Explaination of code:\n",
    "        - The `Landscape` class defines the structure of the `landscapes` table and includes methods for CRUD operations.\n",
    "\n",
    "        - The `create` method inserts a new record into the database.\n",
    "\n",
    "        - The `delete` method removes a record from the database.\n",
    "\n",
    "        - The `read` method returns a dictionary representation of the record."
   ]
  },
  {
   "cell_type": "code",
   "execution_count": null,
   "metadata": {},
   "outputs": [],
   "source": [
    "from __init__ import app, db\n",
    "import logging\n",
    "\n",
    "class Landscape(db.Model):\n",
    "    __tablename__ = 'landscapes'\n",
    "    id = db.Column(db.Integer, primary_key=True)\n",
    "    name = db.Column(db.String(255), nullable=False)\n",
    "    country = db.Column(db.String(255), nullable=False)\n",
    "    city = db.Column(db.String(255), nullable=False)\n",
    "    description = db.Column(db.String(225), nullable=False)\n",
    "\n",
    "    def __init__(self, name, country, city, description):\n",
    "        self.name = name\n",
    "        self.country = country\n",
    "        self.city = city\n",
    "        self.description = description\n",
    "\n",
    "    def create(self):\n",
    "        try:\n",
    "            db.session.add(self)\n",
    "            db.session.commit()\n",
    "            return self\n",
    "        except Exception as e:\n",
    "            db.session.rollback()\n",
    "            logging.warning(f\"Error creating landscape: {str(e)}\")\n",
    "            return None\n",
    "\n",
    "    def delete(self):\n",
    "        try:\n",
    "            db.session.delete(self)\n",
    "            db.session.commit()\n",
    "        except Exception as e:\n",
    "            db.session.rollback()\n",
    "            logging.warning(f\"Error deleting landscape: {str(e)}\")\n",
    "            raise e\n",
    "\n",
    "    def read(self):\n",
    "        return {\n",
    "            'id': self.id,\n",
    "            'name': self.name,\n",
    "            'country': self.country,\n",
    "            'city': self.city,\n",
    "            'description': self.description\n",
    "        }"
   ]
  },
  {
   "cell_type": "code",
   "execution_count": null,
   "metadata": {},
   "outputs": [],
   "source": [
    "def update(self, name=None, country=None, city=None, description=None):\n",
    "    \"\"\"\n",
    "    Updates the landscape's attributes.\n",
    "    \"\"\"\n",
    "    try:\n",
    "        if name:\n",
    "            self.name = name\n",
    "        if country:\n",
    "            self.country = country\n",
    "        if city:\n",
    "            self.city = city\n",
    "        if description:\n",
    "            self.description = description\n",
    "        db.session.commit()\n",
    "        return self\n",
    "    except Exception as e:\n",
    "        db.session.rollback()\n",
    "        logging.warning(f\"Error updating landscape: {str(e)}\")\n",
    "        return None"
   ]
  },
  {
   "cell_type": "markdown",
   "metadata": {},
   "source": [
    "- **Algorithmic Code to Handle a Request**\n",
    "    - When an API request is made, an algorithm processes the incoming data.\n",
    "    - If name is provided → Returns success message.\n",
    "    - If name is missing → Returns an error.\n"
   ]
  },
  {
   "cell_type": "code",
   "execution_count": null,
   "metadata": {},
   "outputs": [],
   "source": [
    "def delete(self):\n",
    "    \"\"\"\n",
    "    Deletes a landscape based on the ID provided in the request body.\n",
    "    \"\"\"\n",
    "        data = request.get_json()\n",
    "        landscape = Landscape.query.get(data['id'])\n",
    "        if landscape:\n",
    "            landscape.delete()\n",
    "            return jsonify(landscape.read()), 200\n",
    "        else:\n",
    "            return jsonify({\"error\": \"Landscape not found\"}), 404"
   ]
  },
  {
   "cell_type": "markdown",
   "metadata": {},
   "source": [
    "- **API Class for GET, POST, PUT, DELETE**\n",
    "    - Web APIs use HTTP methods to interact with data. A Flask API class is used to implement RESTful endpoints.\n",
    "    - Usage\n",
    "        - GET retrieve all\n",
    "        - POST create a new\n",
    "        - PUT  update an existing class\n",
    "        - DELETE remove\n",
    "    - Explaination of code:\n",
    "        - The `create` method corresponds to the HTTP POST method.\n",
    "\n",
    "        - The `delete` method corresponds to the HTTP DELETE method.\n",
    "\n",
    "        - The  `read` method corresponds to the HTTP GET method."
   ]
  },
  {
   "cell_type": "code",
   "execution_count": null,
   "metadata": {},
   "outputs": [],
   "source": [
    "def create(self):\n",
    "        try:\n",
    "            db.session.add(self)\n",
    "            db.session.commit()\n",
    "            return self\n",
    "        except Exception as e:\n",
    "            db.session.rollback()\n",
    "            logging.warning(f\"Error creating landscape: {str(e)}\")\n",
    "            return None\n",
    "\n",
    "def delete(self):\n",
    "        try:\n",
    "            db.session.delete(self)\n",
    "            db.session.commit()\n",
    "        except Exception as e:\n",
    "            db.session.rollback()\n",
    "            logging.warning(f\"Error deleting landscape: {str(e)}\")\n",
    "            raise e\n",
    "        \n",
    "def read(self):\n",
    "        return {\n",
    "            'id': self.id,\n",
    "            'name': self.name,\n",
    "            'country': self.country,\n",
    "            'city': self.city,\n",
    "            'description': self.description\n",
    "        }"
   ]
  },
  {
   "cell_type": "markdown",
   "metadata": {},
   "source": [
    "- **Method in Class Containing Sequencing, Selection, Iteration**\n",
    "    - Retrieve (sequencing).\n",
    "    - Loops through each (iteration).\n",
    "    - Checks conditions (selection).\n",
    "    - The `restore` method retrieves data, loops through each item, and checks conditions.\n",
    "    - Explaination of code: \n",
    "        - The `restore` method iterates through a list of landscapes.\n",
    "\n",
    "        - For each landscape, it checks if the record already exists in the database.\n",
    "\n",
    "        - If the record does not exist, it is added to the database.\n",
    "\n"
   ]
  },
  {
   "cell_type": "code",
   "execution_count": null,
   "metadata": {},
   "outputs": [],
   "source": [
    "@staticmethod\n",
    "def restore(data):\n",
    "    try:\n",
    "        for item in data:\n",
    "            existing_landscape = Landscape.query.filter_by(\n",
    "                name=item['name'],\n",
    "                country=item['country'],\n",
    "                city=item['city'],\n",
    "                description=item['description']\n",
    "            ).first()\n",
    "            if not existing_landscape:\n",
    "                landscape = Landscape(\n",
    "                    name=item['name'],\n",
    "                    country=item['country'],\n",
    "                    city=item['city'],\n",
    "                    description=item['description']\n",
    "                )\n",
    "                db.session.add(landscape)\n",
    "        db.session.commit()\n",
    "        return True\n",
    "    except Exception as e:\n",
    "        db.session.rollback()\n",
    "        logging.warning(f\"Error restoring landscapes: {str(e)}\")\n",
    "        return False"
   ]
  },
  {
   "cell_type": "markdown",
   "metadata": {},
   "source": [
    "- **Parameters (Body of Request) & Return Type (jsonify)**\n",
    "    - APIs accept request body parameters and return structured JSON responses\n",
    "    - Explaination of code: \n",
    "        - The `fetch` function sends a `POST` request to the API endpoint.\n",
    "\n",
    "        - The request body contains the landscape data in JSON format.\n",
    "\n",
    "        - The API processes the request and returns a JSON response."
   ]
  },
  {
   "cell_type": "code",
   "execution_count": null,
   "metadata": {
    "vscode": {
     "languageId": "javascript"
    }
   },
   "outputs": [],
   "source": [
    "const response = await fetch(`${pythonURI}/api/landscapes`, {\n",
    "    method: 'POST',\n",
    "    headers: {\n",
    "        'Content-Type': 'application/json'\n",
    "    },\n",
    "    body: JSON.stringify(formData)\n",
    "});"
   ]
  },
  {
   "cell_type": "markdown",
   "metadata": {},
   "source": [
    "- **Code Block to Make a Request (Call to Algorithm Request)**\n",
    "    -  API requests can be made using requests in Python.\n",
    "    - Explaination of code:\n",
    "        - The `fetch` function sends a `POST` request to the API endpoint.\n",
    "\n",
    "        - The request body contains the landscape data in JSON format."
   ]
  },
  {
   "cell_type": "code",
   "execution_count": null,
   "metadata": {
    "vscode": {
     "languageId": "javascript"
    }
   },
   "outputs": [],
   "source": [
    "const response = await fetch(`${pythonURI}/api/landscapes`, { \n",
    "    method: 'POST',\n",
    "    headers: { 'Content-Type': 'application/json' },\n",
    "    body: JSON.stringify(formData)\n",
    "});"
   ]
  },
  {
   "cell_type": "markdown",
   "metadata": {},
   "source": [
    "- **Fetching API Data (Call to Method with Algorithm)**\n",
    "    - The client needs to make an API call to fetch data from a server.\n",
    "    - Explaination of code: \n",
    "        - The  `pythonURI` variable dynamically sets the API endpoint based on the environment.\n",
    "\n",
    "        - The `fetchLandscapes` function makes an asynchronous request to the API.\n",
    "\n",
    "        - If the request is successful, the data is displayed using the `displayLandscapes` function."
   ]
  },
  {
   "cell_type": "code",
   "execution_count": null,
   "metadata": {
    "vscode": {
     "languageId": "javascript"
    }
   },
   "outputs": [],
   "source": [
    "const pythonURI = (() => {\n",
    "    if (location.hostname === \"localhost\" || location.hostname === \"127.0.0.1\") {\n",
    "        return \"http://127.0.0.1:8402\"; \n",
    "    } else {\n",
    "        return \"https://flask2025.nighthawkcodingsociety.com\";\n",
    "    }\n",
    "})();\n",
    "\n",
    "async function fetchLandscapes() {\n",
    "    try {\n",
    "        const response = await fetch(`${pythonURI}/api/landscapes`); \n",
    "        const landscapeData = await response.json();\n",
    "        displayLandscapes(landscapeData);\n",
    "    } catch (error) {\n",
    "        console.error('Error fetching landscapes:', error);\n",
    "    }\n",
    "}"
   ]
  },
  {
   "cell_type": "markdown",
   "metadata": {},
   "source": [
    "- **Handling API Response (Fetch & Data Handling)**\n",
    "    - Once the data is retrieved, it must be properly processed and displayed.\n",
    "    - Explaination of code: \n",
    "        - The `response.ok` property checks if the API request was successful.\n",
    "\n",
    "        - If the request fails, an error is thrown.\n",
    "\n",
    "        - The `fetchLandscapes` function is called to initiate the data fetch process."
   ]
  },
  {
   "cell_type": "code",
   "execution_count": null,
   "metadata": {
    "vscode": {
     "languageId": "javascript"
    }
   },
   "outputs": [],
   "source": [
    "if (!response.ok) {\n",
    "    throw new Error('Failed to fetch landscapes: ' + response.statusText);\n",
    "}\n",
    "fetchLandscapes();"
   ]
  }
 ],
 "metadata": {
  "language_info": {
   "name": "python"
  }
 },
 "nbformat": 4,
 "nbformat_minor": 2
}
