{
 "cells": [
  {
   "cell_type": "raw",
   "metadata": {},
   "source": [
    "---\n",
    "layout: post\n",
    "title: T2 Final Reflection\n",
    "author: Anyi Wang \n",
    "comments: true\n",
    "toc: true\n",
    "---"
   ]
  },
  {
   "cell_type": "markdown",
   "metadata": {},
   "source": [
    "# Digital Divide"
   ]
  },
  {
   "cell_type": "markdown",
   "metadata": {},
   "source": []
  },
  {
   "cell_type": "markdown",
   "metadata": {},
   "source": [
    "- **Implications for Yemen:**\n",
    "    - Limited access to digital resources: A low internet penetration rate means that many people in Yemen lack the ability to access critical digital services such as e-learning, online healthcare, and government services. This limits economic opportunities and social development.\n",
    "    - Barriers due to conflict and infrastructure destruction: The ongoing conflict in Yemen has damaged infrastructure, making it harder for people to connect to the internet and access digital tools. This could prevent citizens from participating in the digital economy or accessing educational resources.\n",
    "    - Electricity shortages: Limited access to reliable electricity compounds the problem, as even when there is internet availability, power issues may prevent consistent use of digital resources."
   ]
  }
 ],
 "metadata": {
  "language_info": {
   "name": "python"
  }
 },
 "nbformat": 4,
 "nbformat_minor": 2
}
