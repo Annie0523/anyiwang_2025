{
 "cells": [
  {
   "cell_type": "raw",
   "metadata": {
    "vscode": {
     "languageId": "raw"
    }
   },
   "source": [
    "---\n",
    "layout: post\n",
    "title: Team Teach HW\n",
    "author: Anyi Wang \n",
    "comments: true\n",
    "toc: true\n",
    "---"
   ]
  },
  {
   "cell_type": "markdown",
   "metadata": {},
   "source": [
    "# Digital Divide"
   ]
  },
  {
   "cell_type": "markdown",
   "metadata": {},
   "source": [
    "### Code Running"
   ]
  },
  {
   "cell_type": "code",
   "execution_count": null,
   "metadata": {
    "vscode": {
     "languageId": "javascript"
    }
   },
   "outputs": [
    {
     "ename": "SyntaxError",
     "evalue": "invalid syntax (3808454739.py, line 1)",
     "output_type": "error",
     "traceback": [
      "\u001b[0;36m  Cell \u001b[0;32mIn[2], line 1\u001b[0;36m\u001b[0m\n\u001b[0;31m    function exploreDigitalDivide() {\u001b[0m\n\u001b[0m             ^\u001b[0m\n\u001b[0;31mSyntaxError\u001b[0m\u001b[0;31m:\u001b[0m invalid syntax\n"
     ]
    }
   ],
   "source": [
    "%%js\n",
    "function exploreDigitalDivide() {\n",
    "  // Select what data to display\n",
    "  const metric = prompt(\n",
    "    \"Which digital divide metric would you like to explore?\\n\" +\n",
    "    \"1: Income-based internet access\\n\" +\n",
    "    \"2: Urban vs rural access\\n\" +\n",
    "    \"3: Age-based internet usage\\n\" +\n",
    "    \"4: Global connectivity rates\"\n",
    "  );\n",
    "\n",
    "  // Sample data\n",
    "  const incomeData = {\n",
    "    categories: [\"Lowest 20%\", \"Second 20%\", \"Middle 20%\", \"Fourth 20%\", \"Highest 20%\"],\n",
    "    values: [62, 71, 80, 88, 95]\n",
    "  };\n",
    "\n",
    "  const locationData = {\n",
    "    categories: [\"Urban\", \"Rural\"],\n",
    "    values: [94, 83]\n",
    "  };\n",
    "\n",
    "  const ageData = {\n",
    "    categories: [\"18-29\", \"30-49\", \"50-64\", \"65+\"],\n",
    "    values: [97, 93, 88, 61]\n",
    "  };\n",
    "\n",
    "  const globalData = {\n",
    "    categories: [\"North America\", \"Europe\", \"Asia Pacific\", \"Latin America\", \"Middle East/Africa\"],\n",
    "    values: [90, 87, 54, 68, 40]\n",
    "  };\n",
    "\n",
    "  // Select dataset based on user choice\n",
    "  let data;\n",
    "  let title;\n",
    "\n",
    "  switch(metric) {\n",
    "    case \"1\":\n",
    "      data = incomeData;\n",
    "      title = \"Internet Access by Income Level (%)\";\n",
    "      break;\n",
    "    case \"2\":\n",
    "      data = locationData;\n",
    "      title = \"Urban vs Rural Internet Access (%)\";\n",
    "      break;\n",
    "    case \"3\":\n",
    "      data = ageData;\n",
    "      title = \"Internet Usage by Age Group (%)\";\n",
    "      break;\n",
    "    case \"4\":\n",
    "      data = globalData;\n",
    "      title = \"Internet Access by Region (%)\";\n",
    "      break;\n",
    "    default:\n",
    "      alert(\"Invalid selection!\");\n",
    "      return;\n",
    "  }\n",
    "\n",
    "  // Display the data (in a real app, this would create a chart)\n",
    "  console.log(title);\n",
    "  console.log(\"=\".repeat(title.length));\n",
    "\n",
    "  const maxValue = Math.max(...data.values);\n",
    "  const maxBarLength = 40;\n",
    "\n",
    "  for (let i = 0; i < data.categories.length; i++) {\n",
    "    const barLength = Math.round((data.values[i] / maxValue) * maxBarLength);\n",
    "    const bar = \"█\".repeat(barLength);\n",
    "    console.log(`${data.categories[i].padEnd(12)}: ${bar} ${data.values[i]}%`);\n",
    "  }\n",
    "}\n",
    "\n",
    "// Run this function to explore different aspects of the digital divide\n",
    "// exploreDigitalDivide();"
   ]
  },
  {
   "cell_type": "code",
   "execution_count": null,
   "metadata": {
    "vscode": {
     "languageId": "javascript"
    }
   },
   "outputs": [
    {
     "ename": "SyntaxError",
     "evalue": "invalid syntax (51545128.py, line 1)",
     "output_type": "error",
     "traceback": [
      "\u001b[0;36m  Cell \u001b[0;32mIn[3], line 1\u001b[0;36m\u001b[0m\n\u001b[0;31m    function bridgeTheDivideGame() {\u001b[0m\n\u001b[0m             ^\u001b[0m\n\u001b[0;31mSyntaxError\u001b[0m\u001b[0;31m:\u001b[0m invalid syntax\n"
     ]
    }
   ],
   "source": [
    "%%js\n",
    "function bridgeTheDivideGame() {\n",
    "  console.log(\"===============================================\");\n",
    "  console.log(\"🌉 BRIDGE THE DIVIDE: Digital Inclusion Challenge\");\n",
    "  console.log(\"===============================================\");\n",
    "  console.log(\"You are a technology policy advisor tasked with\");\n",
    "  console.log(\"helping communities overcome the digital divide.\");\n",
    "  console.log(\"Analyze each scenario and make the best decision!\\n\");\n",
    "\n",
    "  let score = 0;\n",
    "  const totalQuestions = 5;\n",
    "\n",
    "  // Scenario 1\n",
    "  console.log(\"SCENARIO 1: Rural Connectivity\");\n",
    "  console.log(\"A rural community of 500 families is located 50 miles from\");\n",
    "  console.log(\"the nearest broadband infrastructure. You have $200,000\");\n",
    "  console.log(\"in funding. What's your best approach?\");\n",
    "  console.log(\"A: Lay fiber optic cable to each home\");\n",
    "  console.log(\"B: Set up a wireless tower system\");\n",
    "  console.log(\"C: Provide satellite internet subsidies\");\n",
    "  console.log(\"D: Create a community center with high-speed internet\");\n",
    "\n",
    "  const answer1 = prompt(\"Your choice (A/B/C/D):\").toUpperCase();\n",
    "  if (answer1 === \"B\") {\n",
    "    console.log(\"✓ Correct! A wireless tower system provides the best\");\n",
    "    console.log(\"  coverage for the investment in this rural setting.\");\n",
    "    score++;\n",
    "  } else {\n",
    "    console.log(\"✗ The best answer is B. Fiber would be too expensive,\");\n",
    "    console.log(\"  satellite has high latency issues, and a single center\");\n",
    "    console.log(\"  wouldn't provide sufficient access for all families.\");\n",
    "  }\n",
    "\n",
    "  // Scenario 2\n",
    "  console.log(\"\\nSCENARIO 2: Digital Literacy\");\n",
    "  console.log(\"An urban neighborhood has new affordable internet access,\");\n",
    "  console.log(\"but adoption remains low at 30%. Investigation reveals many\");\n",
    "  console.log(\"residents lack digital skills. What approach would help most?\");\n",
    "  console.log(\"A: Reduce internet prices further\");\n",
    "  console.log(\"B: Distribute free tablets to all residents\");\n",
    "  console.log(\"C: Launch digital literacy workshops at local library\");\n",
    "  console.log(\"D: Create a tech support hotline\");\n",
    "\n",
    "  const answer2 = prompt(\"Your choice (A/B/C/D):\").toUpperCase();\n",
    "  if (answer2 === \"C\") {\n",
    "    console.log(\"✓ Correct! Digital literacy workshops address the\");\n",
    "    console.log(\"  root cause - lack of skills - rather than just\");\n",
    "    console.log(\"  providing more access or support.\");\n",
    "    score++;\n",
    "  } else {\n",
    "    console.log(\"✗ The best answer is C. The primary barrier isn't\");\n",
    "    console.log(\"  cost or device ownership, but skill development.\");\n",
    "    console.log(\"  Workshops provide hands-on learning opportunities.\");\n",
    "  }\n",
    "\n",
    "  // Add more scenarios as needed...\n",
    "\n",
    "  // Final score\n",
    "  console.log(\"\\n===============================================\");\n",
    "  console.log(`FINAL SCORE: ${score}/${totalQuestions}`);\n",
    "  console.log(\"===============================================\");\n",
    "\n",
    "  if (score === totalQuestions) {\n",
    "    console.log(\"🏆 Perfect! You're a digital inclusion expert!\");\n",
    "  } else if (score >= totalQuestions * 0.7) {\n",
    "    console.log(\"🥈 Good job! You have strong understanding of digital divide issues.\");\n",
    "  } else if (score >= totalQuestions * 0.5) {\n",
    "    console.log(\"👍 Decent effort, but review some of the concepts again.\");\n",
    "  } else {\n",
    "    console.log(\"📚 You need more study on digital divide solutions.\");\n",
    "  }\n",
    "}\n",
    "\n",
    "// Run the game with: bridgeTheDivideGame();"
   ]
  },
  {
   "cell_type": "markdown",
   "metadata": {},
   "source": [
    "### FRQ"
   ]
  },
  {
   "cell_type": "markdown",
   "metadata": {},
   "source": [
    "- Describe three dimensions of the digital divide and explain how each affects access to educational resources. Provide specific examples.\n",
    "    - Access to Technology:\n",
    "\n",
    "        - Impact: Lack of devices limits students’ ability to access online resources and participate in digital learning.\n",
    "        - Example: Low-income families may not afford laptops, hindering their educational progress.\n",
    "    \n",
    "    - Internet Connectivity:\n",
    "\n",
    "        - Impact: Slow or unreliable internet disrupts online learning.\n",
    "        - Example: Rural areas often have poor internet speeds, making virtual classrooms difficult.\n",
    "\n",
    "    - Digital Literacy:\n",
    "\n",
    "        - Impact: Without proper skills, students can't effectively use digital tools or online platforms.\n",
    "        - Example: A student may struggle to navigate e-learning software or online research.\n",
    "\n",
    "- Compare and contrast the digital divide challenges faced in urban versus rural communities. What solutions might be effective in each context?\n",
    "    - Urban:\n",
    "\n",
    "        - Challenges: Higher costs, digital literacy gaps.\n",
    "        - Solutions: Focus on affordability and literacy programs.\n",
    "    - Rural:\n",
    "\n",
    "        - Challenges: Poor internet, limited access to devices.\n",
    "        - Solutions: Invest in satellite internet and affordable tech solutions.\n",
    "\n",
    "- Analyze how the COVID-19 pandemic exposed and potentially exacerbated existing digital divides. Include at least three specific examples.\n",
    "\n",
    "    - School Closures: Exposed gaps in tech access, preventing students from attending online classes.\n",
    "    - Remote Work: Workers in rural or low-income areas lacked necessary internet or devices for remote work.\n",
    "    - Health Information: Limited access to online health resources worsened health disparities.\n"
   ]
  },
  {
   "cell_type": "markdown",
   "metadata": {},
   "source": [
    "### Extra Credit"
   ]
  },
  {
   "cell_type": "markdown",
   "metadata": {},
   "source": [
    "<img src=\"{{site.baseurl}}/images/teamteachhw/digitaldivide1.png\" alt=\"yemen\" width=\"1000\">"
   ]
  },
  {
   "cell_type": "markdown",
   "metadata": {},
   "source": [
    "- **Implications for Yemen:**\n",
    "    - Limited access to digital resources: A low internet penetration rate means that many people in Yemen lack the ability to access critical digital services such as e-learning, online healthcare, and government services. This limits economic opportunities and social development.\n",
    "    - Barriers due to conflict and infrastructure destruction: The ongoing conflict in Yemen has damaged infrastructure, making it harder for people to connect to the internet and access digital tools. This could prevent citizens from participating in the digital economy or accessing educational resources.\n",
    "    - Electricity shortages: Limited access to reliable electricity compounds the problem, as even when there is internet availability, power issues may prevent consistent use of digital resources."
   ]
  },
  {
   "cell_type": "markdown",
   "metadata": {},
   "source": [
    "<img src=\"{{site.baseurl}}/images/teamteachhw/digitaldivide2.png\" alt=\"Pakistan\" width=\"1000\">"
   ]
  },
  {
   "cell_type": "markdown",
   "metadata": {},
   "source": [
    "- **Implications for Pakistan:**\n",
    "    - Higher internet penetration compared to Yemen: While Pakistan has slightly higher internet access, it still faces significant barriers in terms of literacy and affordability. Citizens may struggle to fully utilize the internet for education, e-commerce, or job opportunities.\n",
    "    - Gender disparity: The gender gap in digital access, where women may have less access to technology or be less likely to use it, can further limit educational and economic opportunities, particularly for women in rural areas.\n",
    "    - Infrastructure gaps: Inadequate infrastructure and power access still pose challenges for full digital inclusion in Pakistan, meaning that many people may not experience the benefits of digital technologies."
   ]
  },
  {
   "cell_type": "markdown",
   "metadata": {},
   "source": [
    "- **Solutions**\n",
    "    - Expand Low-Cost Internet Infrastructure:\n",
    "\n",
    "        - Satellite internet: Partner with telecom companies and international organizations to provide affordable satellite-based internet solutions to underserved regions.\n",
    "        - Solar-powered internet hubs: Deploy solar-powered hubs that can provide both electricity and internet access in remote areas, addressing two major barriers at once.\n",
    "    - Digital Literacy and Skills Training:\n",
    "\n",
    "        - Mobile-based digital literacy programs: Develop affordable, scalable mobile-based learning platforms targeting both urban and rural populations.\n",
    "        - Gender-sensitive initiatives: Focus on providing digital literacy programs that include women and other marginalized groups to reduce the digital divide.\n",
    "        - Public-private partnerships: Collaborate with local schools, NGOs, and tech companies to provide free or low-cost online education and digital skills workshops for the population."
   ]
  },
  {
   "cell_type": "markdown",
   "metadata": {},
   "source": [
    "# Computing Bias"
   ]
  },
  {
   "cell_type": "markdown",
   "metadata": {},
   "source": [
    "### Popcorn Hack 1\n",
    "- Facial Recognition Misidentification\n",
    "    - Bias Type: Technical Bias\n",
    "    - Facial recognition systems have been shown to have higher error rates for people with darker skin tones due to imbalanced training data that over represents lighter-skinned individuals.\n",
    "    - Impact: This leads to misidentifications, wrongful arrests, and discrimination in law enforcement and security applications.\n",
    "    - Solution: Improve training datasets by including diverse skin tones and use bias-detection audits to evaluate model performance across different demographic groups.\n",
    "    - [Read More](https://www.aclu-mn.org/en/news/biased-technology-automated-discrimination-facial-recognition#:~:text=Studies%20show%20that%20facial%20recognition%20technology%20is%20biased.,published%20by%20MIT%20Media%20Lab.)"
   ]
  },
  {
   "cell_type": "markdown",
   "metadata": {},
   "source": [
    "### Popcorn Hack 2"
   ]
  },
  {
   "cell_type": "markdown",
   "metadata": {},
   "source": [
    "- **Use Counterfactual Data Augmentation** – Create synthetic loan applications where only the gender variable is changed while keeping all other financial factors the same. This helps the AI learn to make decisions based on merit rather than gender.  \n",
    "\n",
    "- **Adopt Explainable AI (XAI) Techniques** – Implement transparency tools that reveal how the AI makes decisions, allowing human auditors to detect and correct gender-based disparities in loan approvals."
   ]
  },
  {
   "cell_type": "markdown",
   "metadata": {},
   "source": [
    "### Homework Hack"
   ]
  },
  {
   "cell_type": "markdown",
   "metadata": {},
   "source": [
    "\"I use a voice assistant that sometimes struggles to understand my accent. The system is biased because it was mainly trained on certain dialects, making it harder for people with diverse accents to use. This is an example of Pre-existing Social Bias. To fix this, I would add a feature that lets users train the assistant to recognize their speech better over time.\""
   ]
  },
  {
   "cell_type": "markdown",
   "metadata": {},
   "source": [
    "### Extra Credit"
   ]
  },
  {
   "cell_type": "markdown",
   "metadata": {},
   "source": [
    "- Bias: Pre-existing Social Bias\n",
    "    - Example: AI recognizes faces better for lighter skin\n",
    "    - Explanation: Many facial recognition systems perform better on lighter skin tones due to training data being predominantly composed of images of lighter-skinned individuals. This can lead to misidentification or exclusion of people with darker skin tones, affecting their access to services and security systems.\n",
    "    - Solution: Improve AI training datasets by ensuring diversity in skin tones. Conduct regular audits to assess accuracy across different demographic groups and fine-tune the model accordingly.\n",
    "\n",
    "- Bias: Pre-existing Social Bias\n",
    "    - Example: Google Translate stereotypes\n",
    "    - Explanation: Google Translate has been known to reinforce gender stereotypes, such as translating gender-neutral pronouns into male-dominated professions (e.g., \"he is a doctor\" and \"she is a nurse\"). This reflects societal biases rather than neutral translation.\n",
    "    - Solution: Implement bias-mitigation techniques in translation algorithms, such as balancing datasets with diverse examples and flagging gendered translations for review.\n",
    "\n",
    "- Bias: Technical Bias\n",
    "    - Example: Bias in facial recognition technologies\n",
    "    - Explanation: Facial recognition technologies often have higher error rates for people of color due to biased training data. This can lead to false identifications, discrimination, and even wrongful arrests.\n",
    "    - Solution: AI developers should train models on diverse and representative datasets. Independent audits and transparency in AI development can also help mitigate these biases.\n",
    "\n",
    "- Bias: Pre-existing Social Bias\n",
    "    - Example: Machine learning algorithms reinforce stereotypes\n",
    "    - Explanation: Machine learning models trained on biased data can reinforce and amplify existing social biases, such as associating certain jobs, behaviors, or characteristics with specific races or genders. This can perpetuate discrimination in hiring, policing, and recommendations.\n",
    "    - Solution: Regularly audit datasets and models for bias, and incorporate fairness-aware algorithms that actively detect and mitigate discriminatory patterns.\n",
    "\n",
    "- Bias: Emergent Social Bias\n",
    "    - Example: Tay chatbot learns hate\n",
    "    - Explanation: Microsoft's Tay chatbot was designed to learn from user interactions, but it quickly adopted offensive and racist language due to exposure to toxic online behavior. This demonstrates how AI systems can be manipulated by user interactions.\n",
    "    - Solution: Implement stricter content moderation, filtering, and real-time monitoring of AI learning processes. AI should have ethical guidelines and safeguards against adopting harmful language.\n",
    "\n",
    "- Bias: Pre-existing Social Bias & Technical Bias\n",
    "    - Example: Amazon AI favors men\n",
    "    - Explanation: Amazon’s AI hiring system was found to favor male candidates by penalizing resumes that included words associated with women (e.g., \"women’s chess club\"). This occurred because the model was trained on past hiring data that reflected gender disparities.\n",
    "    - Solution: Ensure hiring algorithms are trained on unbiased data, remove gendered indicators, and regularly test AI for discriminatory patterns. Human oversight should be integrated into AI-driven decision-making."
   ]
  },
  {
   "cell_type": "markdown",
   "metadata": {},
   "source": [
    "# Crowdsourcing "
   ]
  },
  {
   "cell_type": "markdown",
   "metadata": {},
   "source": [
    "### Popcorn Hack"
   ]
  },
  {
   "cell_type": "markdown",
   "metadata": {},
   "source": [
    "![captcha](https://s3.ifanr.com/wp-content/uploads/2014/12/cat_captcha-598x1024.png)\n"
   ]
  },
  {
   "cell_type": "markdown",
   "metadata": {},
   "source": [
    "- **Public Dataset: Google Trends**  \n",
    "    - **Purpose:** Tracks search interest over time for keywords, helping businesses, researchers, and marketers analyze trends.  \n",
    "\n",
    "    - **Pros:**  \n",
    "        ✅ Real-time insights into public interests  \n",
    "        ✅ Useful for market research & forecasting  \n",
    "\n",
    "    - **Cons:**  \n",
    "        ⚠️ Skewed towards internet users, ignoring offline populations  \n",
    "        ⚠️ Can be manipulated by viral trends or bot activity"
   ]
  },
  {
   "cell_type": "markdown",
   "metadata": {},
   "source": [
    "### Homework Hacks"
   ]
  },
  {
   "cell_type": "markdown",
   "metadata": {},
   "source": [
    "**Question 1:**  \n",
    "- **Citizen Science (Astronomy)** – Projects like Galaxy Zoo allow volunteers to help classify galaxies using telescope images.  \n",
    "- **Traffic Data (Navigation Apps)** – Apps like Waze crowdsource real-time traffic updates from drivers to improve navigation accuracy.  \n",
    "\n",
    "**Question 2:**  A successful example of crowdsourcing is **Wikipedia**.  \n",
    "- **Project:** A free, collaborative online encyclopedia.  \n",
    "- **Goals:** To create and maintain a vast collection of accurate, publicly accessible information.  \n",
    "- **Outcomes:** Millions of articles written by volunteers worldwide, making knowledge more accessible and reducing reliance on traditional encyclopedias.  \n",
    "\n",
    "**Question 3:**  \n",
    "- **Quality Control Issues** – Crowdsourced work may lack accuracy or consistency (e.g., false or biased information on Wikipedia).  \n",
    "- **Exploitation of Labor** – Platforms like Amazon Mechanical Turk pay workers very little for tasks, leading to criticism of unfair compensation.  \n",
    "- **Security Risks** – Open platforms may be vulnerable to misinformation or data breaches.  \n",
    "- Example: In 2016, **Google's \"Quick, Draw!\"** (a crowdsourced AI doodling game) raised concerns about privacy since users’ drawings were used to train AI without explicit compensation.  \n",
    "\n",
    "**Question 4:**  \n",
    "- Dataset: CDC’s National Diabetes Statistics Report\n",
    "- Source: Centers for Disease Control and Prevention (CDC)\n",
    "- Purpose: Provides nationwide statistics on diabetes prevalence, demographics, and health outcomes."
   ]
  },
  {
   "cell_type": "markdown",
   "metadata": {},
   "source": []
  }
 ],
 "metadata": {
  "kernelspec": {
   "display_name": "venv",
   "language": "python",
   "name": "python3"
  },
  "language_info": {
   "codemirror_mode": {
    "name": "ipython",
    "version": 3
   },
   "file_extension": ".py",
   "mimetype": "text/x-python",
   "name": "python",
   "nbconvert_exporter": "python",
   "pygments_lexer": "ipython3",
   "version": "3.12.3"
  }
 },
 "nbformat": 4,
 "nbformat_minor": 2
}
