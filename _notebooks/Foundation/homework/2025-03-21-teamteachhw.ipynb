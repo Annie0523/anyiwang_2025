{
 "cells": [
  {
   "cell_type": "raw",
   "metadata": {
    "vscode": {
     "languageId": "raw"
    }
   },
   "source": [
    "---\n",
    "layout: post\n",
    "title: Team Teach HW\n",
    "author: Anyi Wang \n",
    "comments: true\n",
    "toc: true\n",
    "---"
   ]
  },
  {
   "cell_type": "markdown",
   "metadata": {},
   "source": [
    "# Digital Divide"
   ]
  },
  {
   "cell_type": "markdown",
   "metadata": {},
   "source": [
    "### Code Running"
   ]
  },
  {
   "cell_type": "code",
   "execution_count": null,
   "metadata": {
    "vscode": {
     "languageId": "javascript"
    }
   },
   "outputs": [
    {
     "ename": "SyntaxError",
     "evalue": "invalid syntax (3808454739.py, line 1)",
     "output_type": "error",
     "traceback": [
      "\u001b[0;36m  Cell \u001b[0;32mIn[2], line 1\u001b[0;36m\u001b[0m\n\u001b[0;31m    function exploreDigitalDivide() {\u001b[0m\n\u001b[0m             ^\u001b[0m\n\u001b[0;31mSyntaxError\u001b[0m\u001b[0;31m:\u001b[0m invalid syntax\n"
     ]
    }
   ],
   "source": [
    "%%js\n",
    "function exploreDigitalDivide() {\n",
    "  // Select what data to display\n",
    "  const metric = prompt(\n",
    "    \"Which digital divide metric would you like to explore?\\n\" +\n",
    "    \"1: Income-based internet access\\n\" +\n",
    "    \"2: Urban vs rural access\\n\" +\n",
    "    \"3: Age-based internet usage\\n\" +\n",
    "    \"4: Global connectivity rates\"\n",
    "  );\n",
    "\n",
    "  // Sample data\n",
    "  const incomeData = {\n",
    "    categories: [\"Lowest 20%\", \"Second 20%\", \"Middle 20%\", \"Fourth 20%\", \"Highest 20%\"],\n",
    "    values: [62, 71, 80, 88, 95]\n",
    "  };\n",
    "\n",
    "  const locationData = {\n",
    "    categories: [\"Urban\", \"Rural\"],\n",
    "    values: [94, 83]\n",
    "  };\n",
    "\n",
    "  const ageData = {\n",
    "    categories: [\"18-29\", \"30-49\", \"50-64\", \"65+\"],\n",
    "    values: [97, 93, 88, 61]\n",
    "  };\n",
    "\n",
    "  const globalData = {\n",
    "    categories: [\"North America\", \"Europe\", \"Asia Pacific\", \"Latin America\", \"Middle East/Africa\"],\n",
    "    values: [90, 87, 54, 68, 40]\n",
    "  };\n",
    "\n",
    "  // Select dataset based on user choice\n",
    "  let data;\n",
    "  let title;\n",
    "\n",
    "  switch(metric) {\n",
    "    case \"1\":\n",
    "      data = incomeData;\n",
    "      title = \"Internet Access by Income Level (%)\";\n",
    "      break;\n",
    "    case \"2\":\n",
    "      data = locationData;\n",
    "      title = \"Urban vs Rural Internet Access (%)\";\n",
    "      break;\n",
    "    case \"3\":\n",
    "      data = ageData;\n",
    "      title = \"Internet Usage by Age Group (%)\";\n",
    "      break;\n",
    "    case \"4\":\n",
    "      data = globalData;\n",
    "      title = \"Internet Access by Region (%)\";\n",
    "      break;\n",
    "    default:\n",
    "      alert(\"Invalid selection!\");\n",
    "      return;\n",
    "  }\n",
    "\n",
    "  // Display the data (in a real app, this would create a chart)\n",
    "  console.log(title);\n",
    "  console.log(\"=\".repeat(title.length));\n",
    "\n",
    "  const maxValue = Math.max(...data.values);\n",
    "  const maxBarLength = 40;\n",
    "\n",
    "  for (let i = 0; i < data.categories.length; i++) {\n",
    "    const barLength = Math.round((data.values[i] / maxValue) * maxBarLength);\n",
    "    const bar = \"█\".repeat(barLength);\n",
    "    console.log(`${data.categories[i].padEnd(12)}: ${bar} ${data.values[i]}%`);\n",
    "  }\n",
    "}\n",
    "\n",
    "// Run this function to explore different aspects of the digital divide\n",
    "// exploreDigitalDivide();"
   ]
  },
  {
   "cell_type": "code",
   "execution_count": null,
   "metadata": {
    "vscode": {
     "languageId": "javascript"
    }
   },
   "outputs": [
    {
     "ename": "SyntaxError",
     "evalue": "invalid syntax (51545128.py, line 1)",
     "output_type": "error",
     "traceback": [
      "\u001b[0;36m  Cell \u001b[0;32mIn[3], line 1\u001b[0;36m\u001b[0m\n\u001b[0;31m    function bridgeTheDivideGame() {\u001b[0m\n\u001b[0m             ^\u001b[0m\n\u001b[0;31mSyntaxError\u001b[0m\u001b[0;31m:\u001b[0m invalid syntax\n"
     ]
    }
   ],
   "source": [
    "%%js\n",
    "function bridgeTheDivideGame() {\n",
    "  console.log(\"===============================================\");\n",
    "  console.log(\"🌉 BRIDGE THE DIVIDE: Digital Inclusion Challenge\");\n",
    "  console.log(\"===============================================\");\n",
    "  console.log(\"You are a technology policy advisor tasked with\");\n",
    "  console.log(\"helping communities overcome the digital divide.\");\n",
    "  console.log(\"Analyze each scenario and make the best decision!\\n\");\n",
    "\n",
    "  let score = 0;\n",
    "  const totalQuestions = 5;\n",
    "\n",
    "  // Scenario 1\n",
    "  console.log(\"SCENARIO 1: Rural Connectivity\");\n",
    "  console.log(\"A rural community of 500 families is located 50 miles from\");\n",
    "  console.log(\"the nearest broadband infrastructure. You have $200,000\");\n",
    "  console.log(\"in funding. What's your best approach?\");\n",
    "  console.log(\"A: Lay fiber optic cable to each home\");\n",
    "  console.log(\"B: Set up a wireless tower system\");\n",
    "  console.log(\"C: Provide satellite internet subsidies\");\n",
    "  console.log(\"D: Create a community center with high-speed internet\");\n",
    "\n",
    "  const answer1 = prompt(\"Your choice (A/B/C/D):\").toUpperCase();\n",
    "  if (answer1 === \"B\") {\n",
    "    console.log(\"✓ Correct! A wireless tower system provides the best\");\n",
    "    console.log(\"  coverage for the investment in this rural setting.\");\n",
    "    score++;\n",
    "  } else {\n",
    "    console.log(\"✗ The best answer is B. Fiber would be too expensive,\");\n",
    "    console.log(\"  satellite has high latency issues, and a single center\");\n",
    "    console.log(\"  wouldn't provide sufficient access for all families.\");\n",
    "  }\n",
    "\n",
    "  // Scenario 2\n",
    "  console.log(\"\\nSCENARIO 2: Digital Literacy\");\n",
    "  console.log(\"An urban neighborhood has new affordable internet access,\");\n",
    "  console.log(\"but adoption remains low at 30%. Investigation reveals many\");\n",
    "  console.log(\"residents lack digital skills. What approach would help most?\");\n",
    "  console.log(\"A: Reduce internet prices further\");\n",
    "  console.log(\"B: Distribute free tablets to all residents\");\n",
    "  console.log(\"C: Launch digital literacy workshops at local library\");\n",
    "  console.log(\"D: Create a tech support hotline\");\n",
    "\n",
    "  const answer2 = prompt(\"Your choice (A/B/C/D):\").toUpperCase();\n",
    "  if (answer2 === \"C\") {\n",
    "    console.log(\"✓ Correct! Digital literacy workshops address the\");\n",
    "    console.log(\"  root cause - lack of skills - rather than just\");\n",
    "    console.log(\"  providing more access or support.\");\n",
    "    score++;\n",
    "  } else {\n",
    "    console.log(\"✗ The best answer is C. The primary barrier isn't\");\n",
    "    console.log(\"  cost or device ownership, but skill development.\");\n",
    "    console.log(\"  Workshops provide hands-on learning opportunities.\");\n",
    "  }\n",
    "\n",
    "  // Add more scenarios as needed...\n",
    "\n",
    "  // Final score\n",
    "  console.log(\"\\n===============================================\");\n",
    "  console.log(`FINAL SCORE: ${score}/${totalQuestions}`);\n",
    "  console.log(\"===============================================\");\n",
    "\n",
    "  if (score === totalQuestions) {\n",
    "    console.log(\"🏆 Perfect! You're a digital inclusion expert!\");\n",
    "  } else if (score >= totalQuestions * 0.7) {\n",
    "    console.log(\"🥈 Good job! You have strong understanding of digital divide issues.\");\n",
    "  } else if (score >= totalQuestions * 0.5) {\n",
    "    console.log(\"👍 Decent effort, but review some of the concepts again.\");\n",
    "  } else {\n",
    "    console.log(\"📚 You need more study on digital divide solutions.\");\n",
    "  }\n",
    "}\n",
    "\n",
    "// Run the game with: bridgeTheDivideGame();"
   ]
  },
  {
   "cell_type": "markdown",
   "metadata": {},
   "source": [
    "### FRQ"
   ]
  },
  {
   "cell_type": "markdown",
   "metadata": {},
   "source": [
    "- Describe three dimensions of the digital divide and explain how each affects access to educational resources. Provide specific examples.\n",
    "    - Access to Technology:\n",
    "\n",
    "        - Impact: Lack of devices limits students’ ability to access online resources and participate in digital learning.\n",
    "        - Example: Low-income families may not afford laptops, hindering their educational progress.\n",
    "    \n",
    "    - Internet Connectivity:\n",
    "\n",
    "        - Impact: Slow or unreliable internet disrupts online learning.\n",
    "        - Example: Rural areas often have poor internet speeds, making virtual classrooms difficult.\n",
    "\n",
    "    - Digital Literacy:\n",
    "\n",
    "        - Impact: Without proper skills, students can't effectively use digital tools or online platforms.\n",
    "        - Example: A student may struggle to navigate e-learning software or online research.\n",
    "\n",
    "- Compare and contrast the digital divide challenges faced in urban versus rural communities. What solutions might be effective in each context?\n",
    "    - Urban:\n",
    "\n",
    "        - Challenges: Higher costs, digital literacy gaps.\n",
    "        - Solutions: Focus on affordability and literacy programs.\n",
    "    - Rural:\n",
    "\n",
    "        - Challenges: Poor internet, limited access to devices.\n",
    "        - Solutions: Invest in satellite internet and affordable tech solutions.\n",
    "\n",
    "- Analyze how the COVID-19 pandemic exposed and potentially exacerbated existing digital divides. Include at least three specific examples.\n",
    "\n",
    "    - School Closures: Exposed gaps in tech access, preventing students from attending online classes.\n",
    "    - Remote Work: Workers in rural or low-income areas lacked necessary internet or devices for remote work.\n",
    "    - Health Information: Limited access to online health resources worsened health disparities.\n"
   ]
  },
  {
   "cell_type": "markdown",
   "metadata": {},
   "source": [
    "### Extra Credit"
   ]
  },
  {
   "cell_type": "markdown",
   "metadata": {},
   "source": [
    "<img src=\"{{site.baseurl}}/images/teamteachhw/digitaldivide1.png\" alt=\"yemen\" width=\"1000\">"
   ]
  },
  {
   "cell_type": "markdown",
   "metadata": {},
   "source": [
    "- **Implications for Yemen:**\n",
    "    - Limited access to digital resources: A low internet penetration rate means that many people in Yemen lack the ability to access critical digital services such as e-learning, online healthcare, and government services. This limits economic opportunities and social development.\n",
    "    - Barriers due to conflict and infrastructure destruction: The ongoing conflict in Yemen has damaged infrastructure, making it harder for people to connect to the internet and access digital tools. This could prevent citizens from participating in the digital economy or accessing educational resources.\n",
    "    - Electricity shortages: Limited access to reliable electricity compounds the problem, as even when there is internet availability, power issues may prevent consistent use of digital resources."
   ]
  },
  {
   "cell_type": "markdown",
   "metadata": {},
   "source": [
    "<img src=\"{{site.baseurl}}/images/teamteachhw/digitaldivide2.png\" alt=\"Pakistan\" width=\"1000\">"
   ]
  },
  {
   "cell_type": "markdown",
   "metadata": {},
   "source": [
    "- **Implications for Pakistan:**\n",
    "    - Higher internet penetration compared to Yemen: While Pakistan has slightly higher internet access, it still faces significant barriers in terms of literacy and affordability. Citizens may struggle to fully utilize the internet for education, e-commerce, or job opportunities.\n",
    "    - Gender disparity: The gender gap in digital access, where women may have less access to technology or be less likely to use it, can further limit educational and economic opportunities, particularly for women in rural areas.\n",
    "    - Infrastructure gaps: Inadequate infrastructure and power access still pose challenges for full digital inclusion in Pakistan, meaning that many people may not experience the benefits of digital technologies."
   ]
  },
  {
   "cell_type": "markdown",
   "metadata": {},
   "source": [
    "- **Solutions**\n",
    "    - Expand Low-Cost Internet Infrastructure:\n",
    "\n",
    "        - Satellite internet: Partner with telecom companies and international organizations to provide affordable satellite-based internet solutions to underserved regions.\n",
    "        - Solar-powered internet hubs: Deploy solar-powered hubs that can provide both electricity and internet access in remote areas, addressing two major barriers at once.\n",
    "    - Digital Literacy and Skills Training:\n",
    "\n",
    "        - Mobile-based digital literacy programs: Develop affordable, scalable mobile-based learning platforms targeting both urban and rural populations.\n",
    "        - Gender-sensitive initiatives: Focus on providing digital literacy programs that include women and other marginalized groups to reduce the digital divide.\n",
    "        - Public-private partnerships: Collaborate with local schools, NGOs, and tech companies to provide free or low-cost online education and digital skills workshops for the population."
   ]
  },
  {
   "cell_type": "markdown",
   "metadata": {},
   "source": [
    "# Computing Bias"
   ]
  },
  {
   "cell_type": "markdown",
   "metadata": {},
   "source": [
    "### Popcorn Hack 1\n",
    "- Facial Recognition Misidentification\n",
    "    - Bias Type: Technical Bias\n",
    "    - Facial recognition systems have been shown to have higher error rates for people with darker skin tones due to imbalanced training data that over represents lighter-skinned individuals.\n",
    "    - Impact: This leads to misidentifications, wrongful arrests, and discrimination in law enforcement and security applications.\n",
    "    - Solution: Improve training datasets by including diverse skin tones and use bias-detection audits to evaluate model performance across different demographic groups.\n",
    "    - [Read More](https://www.aclu-mn.org/en/news/biased-technology-automated-discrimination-facial-recognition#:~:text=Studies%20show%20that%20facial%20recognition%20technology%20is%20biased.,published%20by%20MIT%20Media%20Lab.)"
   ]
  },
  {
   "cell_type": "markdown",
   "metadata": {},
   "source": [
    "### Popcorn Hack 2"
   ]
  },
  {
   "cell_type": "markdown",
   "metadata": {},
   "source": [
    "- **Use Counterfactual Data Augmentation** – Create synthetic loan applications where only the gender variable is changed while keeping all other financial factors the same. This helps the AI learn to make decisions based on merit rather than gender.  \n",
    "\n",
    "- **Adopt Explainable AI (XAI) Techniques** – Implement transparency tools that reveal how the AI makes decisions, allowing human auditors to detect and correct gender-based disparities in loan approvals."
   ]
  },
  {
   "cell_type": "markdown",
   "metadata": {},
   "source": [
    "### Homework Hack"
   ]
  },
  {
   "cell_type": "markdown",
   "metadata": {},
   "source": [
    "\"I use a voice assistant that sometimes struggles to understand my accent. The system is biased because it was mainly trained on certain dialects, making it harder for people with diverse accents to use. This is an example of Pre-existing Social Bias. To fix this, I would add a feature that lets users train the assistant to recognize their speech better over time.\""
   ]
  },
  {
   "cell_type": "markdown",
   "metadata": {},
   "source": [
    "### Extra Credit"
   ]
  },
  {
   "cell_type": "markdown",
   "metadata": {},
   "source": [
    "- Bias: Pre-existing Social Bias\n",
    "    - Example: AI recognizes faces better for lighter skin\n",
    "    - Explanation: Many facial recognition systems perform better on lighter skin tones due to training data being predominantly composed of images of lighter-skinned individuals. This can lead to misidentification or exclusion of people with darker skin tones, affecting their access to services and security systems.\n",
    "    - Solution: Improve AI training datasets by ensuring diversity in skin tones. Conduct regular audits to assess accuracy across different demographic groups and fine-tune the model accordingly.\n",
    "\n",
    "- Bias: Pre-existing Social Bias\n",
    "    - Example: Google Translate stereotypes\n",
    "    - Explanation: Google Translate has been known to reinforce gender stereotypes, such as translating gender-neutral pronouns into male-dominated professions (e.g., \"he is a doctor\" and \"she is a nurse\"). This reflects societal biases rather than neutral translation.\n",
    "    - Solution: Implement bias-mitigation techniques in translation algorithms, such as balancing datasets with diverse examples and flagging gendered translations for review.\n",
    "\n",
    "- Bias: Technical Bias\n",
    "    - Example: Bias in facial recognition technologies\n",
    "    - Explanation: Facial recognition technologies often have higher error rates for people of color due to biased training data. This can lead to false identifications, discrimination, and even wrongful arrests.\n",
    "    - Solution: AI developers should train models on diverse and representative datasets. Independent audits and transparency in AI development can also help mitigate these biases.\n",
    "\n",
    "- Bias: Pre-existing Social Bias\n",
    "    - Example: Machine learning algorithms reinforce stereotypes\n",
    "    - Explanation: Machine learning models trained on biased data can reinforce and amplify existing social biases, such as associating certain jobs, behaviors, or characteristics with specific races or genders. This can perpetuate discrimination in hiring, policing, and recommendations.\n",
    "    - Solution: Regularly audit datasets and models for bias, and incorporate fairness-aware algorithms that actively detect and mitigate discriminatory patterns.\n",
    "\n",
    "- Bias: Emergent Social Bias\n",
    "    - Example: Tay chatbot learns hate\n",
    "    - Explanation: Microsoft's Tay chatbot was designed to learn from user interactions, but it quickly adopted offensive and racist language due to exposure to toxic online behavior. This demonstrates how AI systems can be manipulated by user interactions.\n",
    "    - Solution: Implement stricter content moderation, filtering, and real-time monitoring of AI learning processes. AI should have ethical guidelines and safeguards against adopting harmful language.\n",
    "\n",
    "- Bias: Pre-existing Social Bias & Technical Bias\n",
    "    - Example: Amazon AI favors men\n",
    "    - Explanation: Amazon’s AI hiring system was found to favor male candidates by penalizing resumes that included words associated with women (e.g., \"women’s chess club\"). This occurred because the model was trained on past hiring data that reflected gender disparities.\n",
    "    - Solution: Ensure hiring algorithms are trained on unbiased data, remove gendered indicators, and regularly test AI for discriminatory patterns. Human oversight should be integrated into AI-driven decision-making."
   ]
  },
  {
   "cell_type": "markdown",
   "metadata": {},
   "source": [
    "# Crowdsourcing "
   ]
  },
  {
   "cell_type": "markdown",
   "metadata": {},
   "source": [
    "### Popcorn Hack"
   ]
  },
  {
   "cell_type": "markdown",
   "metadata": {},
   "source": [
    "![captcha](https://s3.ifanr.com/wp-content/uploads/2014/12/cat_captcha-598x1024.png)\n"
   ]
  },
  {
   "cell_type": "markdown",
   "metadata": {},
   "source": [
    "- **Public Dataset: Google Trends**  \n",
    "    - **Purpose:** Tracks search interest over time for keywords, helping businesses, researchers, and marketers analyze trends.  \n",
    "\n",
    "    - **Pros:**  \n",
    "        ✅ Real-time insights into public interests  \n",
    "        ✅ Useful for market research & forecasting  \n",
    "\n",
    "    - **Cons:**  \n",
    "        ⚠️ Skewed towards internet users, ignoring offline populations  \n",
    "        ⚠️ Can be manipulated by viral trends or bot activity"
   ]
  },
  {
   "cell_type": "markdown",
   "metadata": {},
   "source": [
    "### Homework Hacks"
   ]
  },
  {
   "cell_type": "markdown",
   "metadata": {},
   "source": [
    "**Question 1:**  \n",
    "- **Concept of Crowdsourcing**: Crowdsourcing is a method of obtaining input, services, or ideas by soliciting contributions from a large group of people, typically from an online community. This approach leverages the collective knowledge, creativity, or effort of a large number of participants, often offering them small incentives or recognition in return. Crowdsourcing can be used to solve problems, generate ideas, or complete tasks that would otherwise be difficult or time-consuming for a single organization or individual to accomplish.\n",
    "- **Citizen Science (Astronomy)** – Projects like Galaxy Zoo allow volunteers to help classify galaxies using telescope images.  \n",
    "- **Traffic Data (Navigation Apps)** – Apps like Waze crowdsource real-time traffic updates from drivers to improve navigation accuracy.  \n",
    "\n",
    "**Question 2:**  A successful example of crowdsourcing is **Wikipedia**.  \n",
    "- **Project:** A free, collaborative online encyclopedia.  \n",
    "- **Goals:** To create and maintain a vast collection of accurate, publicly accessible information.  \n",
    "- **Outcomes:** Millions of articles written by volunteers worldwide, making knowledge more accessible and reducing reliance on traditional encyclopedias.  \n",
    "\n",
    "**Question 3:**  \n",
    "- **Quality Control Issues** – Crowdsourced work may lack accuracy or consistency (e.g., false or biased information on Wikipedia).  \n",
    "- **Exploitation of Labor** – Platforms like Amazon Mechanical Turk pay workers very little for tasks, leading to criticism of unfair compensation.  \n",
    "- **Security Risks** – Open platforms may be vulnerable to misinformation or data breaches.  \n",
    "- Example: In 2016, **Google's \"Quick, Draw!\"** (a crowdsourced AI doodling game) raised concerns about privacy since users’ drawings were used to train AI without explicit compensation.  \n",
    "\n",
    "**Question 4:**  \n",
    "- Dataset: CDC’s National Diabetes Statistics Report\n",
    "- Source: Centers for Disease Control and Prevention (CDC)\n",
    "- Purpose: Provides nationwide statistics on diabetes prevalence, demographics, and health outcomes."
   ]
  },
  {
   "cell_type": "markdown",
   "metadata": {},
   "source": [
    "# Legal / Ethical Concerns"
   ]
  },
  {
   "cell_type": "markdown",
   "metadata": {},
   "source": [
    "### Popcorn Hack #1\n",
    "- **My IP**:  hire someone to create a logo, design, or software specifically for myself, here’s an agreement that I own the rights to the work upon completion. I can make copies, resell, or modify the work because I own the rights to it.\n",
    "- **Not My IP**: buy a movie on DVD or a book..."
   ]
  },
  {
   "cell_type": "markdown",
   "metadata": {},
   "source": [
    "### Popcorn Hack #2\n",
    "- As a computer science student, I’d probably go with **CC BY-SA** for my repository or site. It allows people to modify and share my work, but they have to keep it under the same license. This way, I can make sure the project stays open-source and others can contribute, while also ensuring that any derivative work is shared in the same way. It’s a good balance between openness and maintaining control over the project’s future development."
   ]
  },
  {
   "cell_type": "markdown",
   "metadata": {},
   "source": [
    "# Safe Computing"
   ]
  },
  {
   "cell_type": "markdown",
   "metadata": {},
   "source": [
    "### Popcorn Hack #1\n",
    "- **Think about a website/company/app that has access to your PII. Describe the service and the kind of data they might store on you. Then, answer the question: How would it affect you if this information was stolen, and what might hackers be able to do with it? (Think about fraud, connections to other websites)** \n",
    "    - **Example: Google** stores my emails, passwords, location, search history, and payment details.  \n",
    "        - If hacked:  \n",
    "            - **Identity Theft** – Access to emails, bank accounts, and personal data.  \n",
    "            - **Full Digital Takeover** – Hackers reset passwords on other linked accounts.  \n",
    "            - **Blackmail & Phishing** – Exploiting private emails and search history.  \n",
    "        - To protect myself:  \n",
    "            - Enable **2FA**  \n",
    "            - Use **unique, strong passwords**  \n",
    "            - Monitor **account activity** regularly\n",
    "\n",
    "### Popcorn Hack #2\n",
    "- **You receive an email warning that your bank account is locked and that you need to click a link to reset your password. What steps should you take before taking action?** \n",
    "    - If I receive an email claiming my bank account is locked, I will be cautious before acting. I’ll check the sender’s email, avoid clicking links, and review my account history by logging in through the official website. I’ll watch for urgent language, typos, or suspicious URLs. Instead of using the provided link, I’ll contact my bank directly. Lastly, I’ll ensure two-factor authentication (2FA) is enabled for extra security.\n",
    "\n",
    "### Popcorn Hack #3\n",
    "- **How might public Wi-Fi networks be exploited by hackers, and what precautions should users take when connecting to them?**\n",
    "    - Hackers can exploit public Wi-Fi by intercepting data, setting up fake hotspots, or spying on unencrypted information. To stay safe, I won’t access sensitive accounts, and I’ll use a **VPN** to protect my connection. I’ll also check for **HTTPS**, turn off **auto-connect**, and use **mobile data** or a **personal hotspot** when possible, I can also use a vpn"
   ]
  },
  {
   "cell_type": "markdown",
   "metadata": {},
   "source": [
    "<img src=\"{{site.baseurl}}/images/teamteachhw/quiz1.png\" alt=\"Quiz\" width=\"1000\">"
   ]
  },
  {
   "cell_type": "markdown",
   "metadata": {},
   "source": [
    "# Binary Search"
   ]
  },
  {
   "cell_type": "markdown",
   "metadata": {},
   "source": [
    "### Homework Hack #1\n",
    "```python\n",
    "def search_rotated_array(arr, target):\n",
    "    left, right = 0, len(arr) - 1\n",
    "\n",
    "    while left <= right:\n",
    "        mid = (left + right) // 2\n",
    "\n",
    "        # Check if mid is the target\n",
    "        if arr[mid] == target:\n",
    "            return mid\n",
    "\n",
    "        # Left half is sorted\n",
    "        if arr[left] <= arr[mid]:\n",
    "            if arr[left] <= target < arr[mid]:\n",
    "                right = mid - 1  # target in left half\n",
    "            else:\n",
    "                left = mid + 1   # target in right half\n",
    "        # Right half is sorted\n",
    "        else:\n",
    "            if arr[mid] < target <= arr[right]:\n",
    "                left = mid + 1   # target in right half\n",
    "            else:\n",
    "                right = mid - 1  # target in left half\n",
    "\n",
    "    return -1  # Target not found\n",
    "```"
   ]
  },
  {
   "cell_type": "markdown",
   "metadata": {},
   "source": [
    "### Homework Hack #2\n",
    "```python\n",
    "    def find_first_and_last(arr, target):\n",
    "        def find_first():\n",
    "            left, right = 0, len(arr) - 1\n",
    "            first = -1\n",
    "            while left <= right:\n",
    "                mid = (left + right) // 2\n",
    "                if arr[mid] == target:\n",
    "                    first = mid\n",
    "                    right = mid - 1 \n",
    "                elif arr[mid] < target:\n",
    "                    left = mid + 1\n",
    "                else:\n",
    "                    right = mid - 1\n",
    "            return first\n",
    "\n",
    "        def find_last():\n",
    "            left, right = 0, len(arr) - 1\n",
    "            last = -1\n",
    "            while left <= right:\n",
    "                mid = (left + right) // 2\n",
    "                if arr[mid] == target:\n",
    "                    last = mid\n",
    "                    left = mid + 1 \n",
    "                elif arr[mid] < target:\n",
    "                    left = mid + 1\n",
    "                else:\n",
    "                    right = mid - 1\n",
    "            return last\n",
    "\n",
    "        first = find_first()\n",
    "        last = find_last()\n",
    "\n",
    "        if first == -1:\n",
    "            return -1\n",
    "        return (first, last)\n",
    "```"
   ]
  },
  {
   "cell_type": "markdown",
   "metadata": {},
   "source": [
    "### Homework Hack #3\n",
    "```python\n",
    "    def smallest_greater_or_equal(arr, target):\n",
    "        left, right = 0, len(arr) - 1\n",
    "        result = -1  # default if no element is found\n",
    "\n",
    "        while left <= right:\n",
    "            mid = (left + right) // 2\n",
    "\n",
    "            if arr[mid] >= target:\n",
    "                result = arr[mid]      # possible candidate\n",
    "                right = mid - 1        # try to find a smaller valid one on the left\n",
    "            else:\n",
    "                left = mid + 1         # look on the right\n",
    "\n",
    "        return result\n",
    "```"
   ]
  },
  {
   "cell_type": "markdown",
   "metadata": {},
   "source": [
    "# List Filter"
   ]
  },
  {
   "cell_type": "markdown",
   "metadata": {},
   "source": [
    "### Popcorn Hacks\n",
    "1. ```python\n",
    "    def find_students_in_range(df, min_score, max_score):\n",
    "    return df[(df['Score'] >= min_score) & (df['Score'] <= max_score)]\n",
    "    ```\n",
    "2. ```python\n",
    "    def add_letter_grades(df):\n",
    "    def get_letter(score):\n",
    "        if score >= 90:\n",
    "            return 'A'\n",
    "        elif score >= 80:\n",
    "            return 'B'\n",
    "        elif score >= 70:\n",
    "            return 'C'\n",
    "        elif score >= 60:\n",
    "            return 'D'\n",
    "        else:\n",
    "            return 'F'\n",
    "\n",
    "    df['Letter'] = df['Score'].apply(get_letter)\n",
    "    return df\n",
    "    ```\n",
    "3. ```python\n",
    "    def find_mode(series):\n",
    "    return series.mode().iloc[0]\n",
    "    ```\n"
   ]
  },
  {
   "cell_type": "markdown",
   "metadata": {},
   "source": [
    "### Homework Hacks\n",
    "- Here is the new design of filtered dataset for my pilot city project -- glucose monitor"
   ]
  },
  {
   "cell_type": "markdown",
   "metadata": {},
   "source": [
    "```python\n",
    "    import pandas as pd\n",
    "    import matplotlib.pyplot as plt\n",
    "    import seaborn as sns\n",
    "\n",
    "    file_path = \"/home/your_path/dexcom_simulator_glucose.csv\"\n",
    "    df = pd.read_csv(file_path)\n",
    "\n",
    "    df.rename(columns={\n",
    "        'Timestamp': 'timestamp',\n",
    "        'GlucoseValue': 'glucose',\n",
    "        'Trend': 'trend' \n",
    "    }, inplace=True)\n",
    "\n",
    "    df['timestamp'] = pd.to_datetime(df['timestamp'])\n",
    "    df = df.dropna(subset=['glucose'])\n",
    "    df = df[df['glucose'] > 0]\n",
    "    df = df.sort_values(by='timestamp')\n",
    "\n",
    "    def classify_glucose(value):\n",
    "        if value < 70:\n",
    "            return 'Hypo'\n",
    "        elif value > 180:\n",
    "            return 'Hyper'\n",
    "        else:\n",
    "            return 'Normal'\n",
    "\n",
    "    df['glucose_level'] = df['glucose'].apply(classify_glucose)\n",
    "\n",
    "    plt.figure(figsize=(14, 6))\n",
    "    sns.lineplot(x='timestamp', y='glucose', data=df, color='blue', label='Glucose Level')\n",
    "    plt.axhline(70, color='red', linestyle='--', label='Hypoglycemia Threshold')\n",
    "    plt.axhline(180, color='orange', linestyle='--', label='Hyperglycemia Threshold')\n",
    "    plt.title(\"Glucose Levels Over Time (Dexcom Simulator)\")\n",
    "    plt.xlabel(\"Time\")\n",
    "    plt.ylabel(\"Glucose (mg/dL)\")\n",
    "    plt.legend()\n",
    "    plt.grid(True)\n",
    "    plt.tight_layout()\n",
    "    plt.show()\n",
    "\n",
    "    df['date'] = df['timestamp'].dt.date\n",
    "    daily_summary = df.groupby('date')['glucose'].agg(['mean', 'max', 'min', 'std']).reset_index()\n",
    "    daily_summary.columns = ['Date', 'Avg Glucose', 'Max Glucose', 'Min Glucose', 'Std Dev']\n",
    "    print(\"📋 Daily Summary:\")\n",
    "    print(daily_summary.head())\n",
    "\n",
    "    event_counts = df['glucose_level'].value_counts()\n",
    "    plt.figure(figsize=(6, 4))\n",
    "    sns.barplot(x=event_counts.index, y=event_counts.values, palette='coolwarm')\n",
    "    plt.title(\"Glucose Event Count\")\n",
    "    plt.ylabel(\"Number of Readings\")\n",
    "    plt.xlabel(\"Glucose Category\")\n",
    "    plt.show()\n",
    "\n",
    "    df.to_csv(\"cleaned_glucose_readings.csv\", index=False)\n",
    "```"
   ]
  },
  {
   "cell_type": "markdown",
   "metadata": {},
   "source": [
    "# Big O and Algorithmic Complexity"
   ]
  },
  {
   "cell_type": "markdown",
   "metadata": {},
   "source": [
    "## Homework Hacks\n",
    "\n",
    "### 1. O(1) - Constant Time\n",
    "\n",
    "```python\n",
    "def get_first_element(arr):\n",
    "    \"\"\"Returns the first element of an array. O(1) time.\"\"\"\n",
    "    return arr[0] if arr else None\n",
    "\n",
    "# Example usage:\n",
    "arr = [5, 2, 9, 1, 5]\n",
    "print(get_first_element(arr))  # Output: 5\n",
    "```\n",
    "\n",
    "**Explanation**:  \n",
    "- Accessing an array element by index is always O(1) because it uses direct memory addressing.\n",
    "- The operation takes the same time regardless of array size.\n",
    "\n",
    "### 2. O(log n) - Logarithmic Time\n",
    "\n",
    "```python\n",
    "def binary_search(arr, target):\n",
    "    \"\"\"Binary search implementation. O(log n) time.\"\"\"\n",
    "    low, high = 0, len(arr) - 1\n",
    "    while low <= high:\n",
    "        mid = (low + high) // 2\n",
    "        if arr[mid] == target:\n",
    "            return mid\n",
    "        elif arr[mid] < target:\n",
    "            low = mid + 1\n",
    "        else:\n",
    "            high = mid - 1\n",
    "    return -1\n",
    "\n",
    "# Example usage:\n",
    "sorted_arr = [1, 3, 5, 7, 9, 11]\n",
    "print(binary_search(sorted_arr, 7))  # Output: 3 (index of 7)\n",
    "```\n",
    "\n",
    "**Explanation**:  \n",
    "- With each iteration, the search space is halved.\n",
    "- This logarithmic reduction leads to O(log n) time complexity.\n",
    "\n",
    "### 3. O(n) - Linear Time\n",
    "\n",
    "```python\n",
    "def linear_search(arr, target):\n",
    "    \"\"\"Linear search through array. O(n) time.\"\"\"\n",
    "    for i, num in enumerate(arr):\n",
    "        if num == target:\n",
    "            return i\n",
    "    return -1\n",
    "\n",
    "# Example usage:\n",
    "arr = [4, 2, 7, 1, 9]\n",
    "print(linear_search(arr, 1))  # Output: 3 (index of 1)\n",
    "```\n",
    "\n",
    "**Explanation**:  \n",
    "- In the worst case, we may need to check every element once.\n",
    "- Time grows linearly with input size n.\n",
    "\n",
    "### 4. O(n²) - Quadratic Time\n",
    "\n",
    "```python\n",
    "def find_duplicates(arr):\n",
    "    \"\"\"Finds duplicate elements using nested loops. O(n²) time.\"\"\"\n",
    "    duplicates = []\n",
    "    for i in range(len(arr)):\n",
    "        for j in range(i + 1, len(arr)):\n",
    "            if arr[i] == arr[j] and arr[i] not in duplicates:\n",
    "                duplicates.append(arr[i])\n",
    "    return duplicates\n",
    "\n",
    "# Example usage:\n",
    "arr = [1, 2, 3, 2, 4, 3, 5]\n",
    "print(find_duplicates(arr))  # Output: [2, 3]\n",
    "```\n",
    "\n",
    "**Explanation**:  \n",
    "- For each element (n), we compare it to every subsequent element (~n comparisons).\n",
    "- This results in n × n = n² operations in the worst case.\n",
    "\n",
    "### Key Observations:\n",
    "1. **O(1)**: Fastest, independent of input size\n",
    "2. **O(log n)**: Very efficient for large datasets\n",
    "3. **O(n)**: Proportional to input size\n",
    "4. **O(n²)**: Becomes slow quickly as n grows\n"
   ]
  },
  {
   "cell_type": "markdown",
   "metadata": {},
   "source": [
    "# Undecidable Problems, Graphs, Heuristics"
   ]
  },
  {
   "cell_type": "markdown",
   "metadata": {},
   "source": [
    "## Homework Hacks\n",
    "\n",
    "### 1. Undecidable Problem: The Infinite Tiling Problem\n",
    "\n",
    "Imagine you have an infinite grid and a finite set of colored tiles, each with colored edges. The question is: **can you tile the entire infinite grid using these tiles so that all touching edges match in color?**\n",
    "\n",
    "This is known as the **Infinite Tiling Problem**, and it is undecidable. More specifically, given a finite set of Wang tiles (square tiles with colored edges), there is **no general algorithm** that can determine whether those tiles can tile the infinite plane without mismatches.\n",
    "\n",
    "### 2. Nearest Neighbor Algorithm for the Traveling Salesman Problem (TSP) \n",
    "\n",
    "```python\n",
    "import math\n",
    "\n",
    "# Define cities with (x, y) coordinates\n",
    "cities = {\n",
    "    \"Pineville\": (0, 0),\n",
    "    \"Lakeside\": (1, 4),\n",
    "    \"Riverbend\": (5, 2),\n",
    "    \"Hilltop\": (6, 6),\n",
    "    \"Stonefield\": (9, 3)\n",
    "}\n",
    "\n",
    "def distance(a, b):\n",
    "    x1, y1 = cities[a]\n",
    "    x2, y2 = cities[b]\n",
    "    return math.hypot(x2 - x1, y2 - y1)\n",
    "\n",
    "def nearest_neighbor(start):\n",
    "    unvisited = set(cities.keys())\n",
    "    tour = [start]\n",
    "    unvisited.remove(start)\n",
    "    current = start\n",
    "\n",
    "    while unvisited:\n",
    "        next_city = min(unvisited, key=lambda city: distance(current, city))\n",
    "        print(f\"Traveling from {current} to {next_city}, Distance: {distance(current, next_city):.2f}\")\n",
    "        tour.append(next_city)\n",
    "        unvisited.remove(next_city)\n",
    "        current = next_city\n",
    "\n",
    "    tour.append(start)  # Complete the loop\n",
    "    print(f\"Returning to {start}, Distance: {distance(current, start):.2f}\")\n",
    "    return tour\n",
    "\n",
    "path = nearest_neighbor(\"Pineville\")\n",
    "print(\"\\nTSP path (Nearest Neighbor):\", \" → \".join(path))\n",
    "```\n",
    "\n",
    "### 3. Heuristics in Action: Warehouse Robotics Pathfinding\n",
    "\n",
    "In modern automated warehouses (think Amazon fulfillment centers), fleets of robots navigate tightly packed storage zones to retrieve items. Computing the **exact optimal path** for every robot in real-time would be a logistical nightmare—especially considering thousands of simultaneous movements, changing priorities, and live updates to inventory.\n",
    "\n",
    "Instead, warehouses use **heuristic-based pathfinding**—like A* search with dynamic weight adjustments—to calculate efficient, but not always perfect, paths. This keeps the robots moving smoothly and avoids computational bottlenecks. Here, perfection takes a back seat to *speed and adaptability*, proving that \"good enough, fast\" beats \"perfect, late.\"\n"
   ]
  },
  {
   "cell_type": "markdown",
   "metadata": {},
   "source": [
    "<img src=\"{{site.baseurl}}/images/teamteachhw/2.png\" alt=\"MC\" width=\"1000\">"
   ]
  },
  {
   "cell_type": "markdown",
   "metadata": {},
   "source": [
    "# Binary Base 2 Math"
   ]
  },
  {
   "cell_type": "markdown",
   "metadata": {},
   "source": [
    "## Homework Hacks\n",
    "### Binary Calculator"
   ]
  },
  {
   "cell_type": "markdown",
   "metadata": {},
   "source": [
    "``` python\n",
    "from flask import Flask, request, jsonify\n",
    "\n",
    "app = Flask(__name__)\n",
    "\n",
    "@app.route('/calculate', methods=['POST'])\n",
    "def calculate():\n",
    "    data = request.get_json()\n",
    "    bin1 = data.get('bin1')\n",
    "    bin2 = data.get('bin2')\n",
    "    operation = data.get('operation')  # add, subtract, multiply, divide\n",
    "\n",
    "    try:\n",
    "        num1 = int(bin1, 2)\n",
    "        num2 = int(bin2, 2)\n",
    "    except (ValueError, TypeError):\n",
    "        return jsonify({'error': 'Invalid binary input'}), 400\n",
    "\n",
    "    result = None\n",
    "\n",
    "    if operation == 'add':\n",
    "        result = num1 + num2\n",
    "    elif operation == 'subtract':\n",
    "        result = num1 - num2\n",
    "    elif operation == 'multiply':\n",
    "        result = num1 * num2\n",
    "    elif operation == 'divide':\n",
    "        if num2 == 0:\n",
    "            return jsonify({'error': 'Division by zero is not allowed'}), 400\n",
    "        result = num1 // num2  # Integer division\n",
    "    else:\n",
    "        return jsonify({'error': 'Invalid operation'}), 400\n",
    "\n",
    "    # Convert the result back to binary\n",
    "    binary_result = bin(result)[2:] if result >= 0 else '-' + bin(abs(result))[2:]\n",
    "\n",
    "    return jsonify({\n",
    "        'bin1': bin1,\n",
    "        'bin2': bin2,\n",
    "        'operation': operation,\n",
    "        'result': binary_result\n",
    "    })\n",
    "\n",
    "if __name__ == '__main__':\n",
    "    app.run(debug=True)\n",
    "```\n"
   ]
  },
  {
   "cell_type": "markdown",
   "metadata": {},
   "source": []
  }
 ],
 "metadata": {
  "kernelspec": {
   "display_name": "venv",
   "language": "python",
   "name": "python3"
  },
  "language_info": {
   "codemirror_mode": {
    "name": "ipython",
    "version": 3
   },
   "file_extension": ".py",
   "mimetype": "text/x-python",
   "name": "python",
   "nbconvert_exporter": "python",
   "pygments_lexer": "ipython3",
   "version": "3.12.3"
  }
 },
 "nbformat": 4,
 "nbformat_minor": 2
}
