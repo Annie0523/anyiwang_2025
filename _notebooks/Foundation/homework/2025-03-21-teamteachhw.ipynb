{
 "cells": [
  {
   "cell_type": "raw",
   "metadata": {},
   "source": [
    "---\n",
    "layout: post\n",
    "title: T2 Final Reflection\n",
    "author: Anyi Wang \n",
    "comments: true\n",
    "toc: true\n",
    "---"
   ]
  },
  {
   "cell_type": "markdown",
   "metadata": {},
   "source": [
    "# Digital Divide"
   ]
  },
  {
   "cell_type": "markdown",
   "metadata": {},
   "source": [
    "### Code Running"
   ]
  },
  {
   "cell_type": "code",
   "execution_count": 2,
   "metadata": {
    "vscode": {
     "languageId": "javascript"
    }
   },
   "outputs": [
    {
     "ename": "SyntaxError",
     "evalue": "invalid syntax (3808454739.py, line 1)",
     "output_type": "error",
     "traceback": [
      "\u001b[0;36m  Cell \u001b[0;32mIn[2], line 1\u001b[0;36m\u001b[0m\n\u001b[0;31m    function exploreDigitalDivide() {\u001b[0m\n\u001b[0m             ^\u001b[0m\n\u001b[0;31mSyntaxError\u001b[0m\u001b[0;31m:\u001b[0m invalid syntax\n"
     ]
    }
   ],
   "source": [
    "function exploreDigitalDivide() {\n",
    "  // Select what data to display\n",
    "  const metric = prompt(\n",
    "    \"Which digital divide metric would you like to explore?\\n\" +\n",
    "    \"1: Income-based internet access\\n\" +\n",
    "    \"2: Urban vs rural access\\n\" +\n",
    "    \"3: Age-based internet usage\\n\" +\n",
    "    \"4: Global connectivity rates\"\n",
    "  );\n",
    "\n",
    "  // Sample data\n",
    "  const incomeData = {\n",
    "    categories: [\"Lowest 20%\", \"Second 20%\", \"Middle 20%\", \"Fourth 20%\", \"Highest 20%\"],\n",
    "    values: [62, 71, 80, 88, 95]\n",
    "  };\n",
    "\n",
    "  const locationData = {\n",
    "    categories: [\"Urban\", \"Rural\"],\n",
    "    values: [94, 83]\n",
    "  };\n",
    "\n",
    "  const ageData = {\n",
    "    categories: [\"18-29\", \"30-49\", \"50-64\", \"65+\"],\n",
    "    values: [97, 93, 88, 61]\n",
    "  };\n",
    "\n",
    "  const globalData = {\n",
    "    categories: [\"North America\", \"Europe\", \"Asia Pacific\", \"Latin America\", \"Middle East/Africa\"],\n",
    "    values: [90, 87, 54, 68, 40]\n",
    "  };\n",
    "\n",
    "  // Select dataset based on user choice\n",
    "  let data;\n",
    "  let title;\n",
    "\n",
    "  switch(metric) {\n",
    "    case \"1\":\n",
    "      data = incomeData;\n",
    "      title = \"Internet Access by Income Level (%)\";\n",
    "      break;\n",
    "    case \"2\":\n",
    "      data = locationData;\n",
    "      title = \"Urban vs Rural Internet Access (%)\";\n",
    "      break;\n",
    "    case \"3\":\n",
    "      data = ageData;\n",
    "      title = \"Internet Usage by Age Group (%)\";\n",
    "      break;\n",
    "    case \"4\":\n",
    "      data = globalData;\n",
    "      title = \"Internet Access by Region (%)\";\n",
    "      break;\n",
    "    default:\n",
    "      alert(\"Invalid selection!\");\n",
    "      return;\n",
    "  }\n",
    "\n",
    "  // Display the data (in a real app, this would create a chart)\n",
    "  console.log(title);\n",
    "  console.log(\"=\".repeat(title.length));\n",
    "\n",
    "  const maxValue = Math.max(...data.values);\n",
    "  const maxBarLength = 40;\n",
    "\n",
    "  for (let i = 0; i < data.categories.length; i++) {\n",
    "    const barLength = Math.round((data.values[i] / maxValue) * maxBarLength);\n",
    "    const bar = \"█\".repeat(barLength);\n",
    "    console.log(`${data.categories[i].padEnd(12)}: ${bar} ${data.values[i]}%`);\n",
    "  }\n",
    "}\n",
    "\n",
    "// Run this function to explore different aspects of the digital divide\n",
    "// exploreDigitalDivide();"
   ]
  },
  {
   "cell_type": "code",
   "execution_count": 3,
   "metadata": {
    "vscode": {
     "languageId": "javascript"
    }
   },
   "outputs": [
    {
     "ename": "SyntaxError",
     "evalue": "invalid syntax (51545128.py, line 1)",
     "output_type": "error",
     "traceback": [
      "\u001b[0;36m  Cell \u001b[0;32mIn[3], line 1\u001b[0;36m\u001b[0m\n\u001b[0;31m    function bridgeTheDivideGame() {\u001b[0m\n\u001b[0m             ^\u001b[0m\n\u001b[0;31mSyntaxError\u001b[0m\u001b[0;31m:\u001b[0m invalid syntax\n"
     ]
    }
   ],
   "source": [
    "function bridgeTheDivideGame() {\n",
    "  console.log(\"===============================================\");\n",
    "  console.log(\"🌉 BRIDGE THE DIVIDE: Digital Inclusion Challenge\");\n",
    "  console.log(\"===============================================\");\n",
    "  console.log(\"You are a technology policy advisor tasked with\");\n",
    "  console.log(\"helping communities overcome the digital divide.\");\n",
    "  console.log(\"Analyze each scenario and make the best decision!\\n\");\n",
    "\n",
    "  let score = 0;\n",
    "  const totalQuestions = 5;\n",
    "\n",
    "  // Scenario 1\n",
    "  console.log(\"SCENARIO 1: Rural Connectivity\");\n",
    "  console.log(\"A rural community of 500 families is located 50 miles from\");\n",
    "  console.log(\"the nearest broadband infrastructure. You have $200,000\");\n",
    "  console.log(\"in funding. What's your best approach?\");\n",
    "  console.log(\"A: Lay fiber optic cable to each home\");\n",
    "  console.log(\"B: Set up a wireless tower system\");\n",
    "  console.log(\"C: Provide satellite internet subsidies\");\n",
    "  console.log(\"D: Create a community center with high-speed internet\");\n",
    "\n",
    "  const answer1 = prompt(\"Your choice (A/B/C/D):\").toUpperCase();\n",
    "  if (answer1 === \"B\") {\n",
    "    console.log(\"✓ Correct! A wireless tower system provides the best\");\n",
    "    console.log(\"  coverage for the investment in this rural setting.\");\n",
    "    score++;\n",
    "  } else {\n",
    "    console.log(\"✗ The best answer is B. Fiber would be too expensive,\");\n",
    "    console.log(\"  satellite has high latency issues, and a single center\");\n",
    "    console.log(\"  wouldn't provide sufficient access for all families.\");\n",
    "  }\n",
    "\n",
    "  // Scenario 2\n",
    "  console.log(\"\\nSCENARIO 2: Digital Literacy\");\n",
    "  console.log(\"An urban neighborhood has new affordable internet access,\");\n",
    "  console.log(\"but adoption remains low at 30%. Investigation reveals many\");\n",
    "  console.log(\"residents lack digital skills. What approach would help most?\");\n",
    "  console.log(\"A: Reduce internet prices further\");\n",
    "  console.log(\"B: Distribute free tablets to all residents\");\n",
    "  console.log(\"C: Launch digital literacy workshops at local library\");\n",
    "  console.log(\"D: Create a tech support hotline\");\n",
    "\n",
    "  const answer2 = prompt(\"Your choice (A/B/C/D):\").toUpperCase();\n",
    "  if (answer2 === \"C\") {\n",
    "    console.log(\"✓ Correct! Digital literacy workshops address the\");\n",
    "    console.log(\"  root cause - lack of skills - rather than just\");\n",
    "    console.log(\"  providing more access or support.\");\n",
    "    score++;\n",
    "  } else {\n",
    "    console.log(\"✗ The best answer is C. The primary barrier isn't\");\n",
    "    console.log(\"  cost or device ownership, but skill development.\");\n",
    "    console.log(\"  Workshops provide hands-on learning opportunities.\");\n",
    "  }\n",
    "\n",
    "  // Add more scenarios as needed...\n",
    "\n",
    "  // Final score\n",
    "  console.log(\"\\n===============================================\");\n",
    "  console.log(`FINAL SCORE: ${score}/${totalQuestions}`);\n",
    "  console.log(\"===============================================\");\n",
    "\n",
    "  if (score === totalQuestions) {\n",
    "    console.log(\"🏆 Perfect! You're a digital inclusion expert!\");\n",
    "  } else if (score >= totalQuestions * 0.7) {\n",
    "    console.log(\"🥈 Good job! You have strong understanding of digital divide issues.\");\n",
    "  } else if (score >= totalQuestions * 0.5) {\n",
    "    console.log(\"👍 Decent effort, but review some of the concepts again.\");\n",
    "  } else {\n",
    "    console.log(\"📚 You need more study on digital divide solutions.\");\n",
    "  }\n",
    "}\n",
    "\n",
    "// Run the game with: bridgeTheDivideGame();"
   ]
  },
  {
   "cell_type": "markdown",
   "metadata": {},
   "source": [
    "<img src=\"{{site.baseurl}}/images/teamteachhw/digitaldivide1.png\" alt=\"yemen\" width=\"1000\">"
   ]
  },
  {
   "cell_type": "markdown",
   "metadata": {},
   "source": [
    "- **Implications for Yemen:**\n",
    "    - Limited access to digital resources: A low internet penetration rate means that many people in Yemen lack the ability to access critical digital services such as e-learning, online healthcare, and government services. This limits economic opportunities and social development.\n",
    "    - Barriers due to conflict and infrastructure destruction: The ongoing conflict in Yemen has damaged infrastructure, making it harder for people to connect to the internet and access digital tools. This could prevent citizens from participating in the digital economy or accessing educational resources.\n",
    "    - Electricity shortages: Limited access to reliable electricity compounds the problem, as even when there is internet availability, power issues may prevent consistent use of digital resources."
   ]
  },
  {
   "cell_type": "markdown",
   "metadata": {},
   "source": [
    "<img src=\"{{site.baseurl}}/images/teamteachhw/digitaldivide2.png\" alt=\"Pakistan\" width=\"1000\">"
   ]
  },
  {
   "cell_type": "markdown",
   "metadata": {},
   "source": [
    "- **Implications for Pakistan:**\n",
    "    - Higher internet penetration compared to Yemen: While Pakistan has slightly higher internet access, it still faces significant barriers in terms of literacy and affordability. Citizens may struggle to fully utilize the internet for education, e-commerce, or job opportunities.\n",
    "    - Gender disparity: The gender gap in digital access, where women may have less access to technology or be less likely to use it, can further limit educational and economic opportunities, particularly for women in rural areas.\n",
    "    - Infrastructure gaps: Inadequate infrastructure and power access still pose challenges for full digital inclusion in Pakistan, meaning that many people may not experience the benefits of digital technologies."
   ]
  },
  {
   "cell_type": "markdown",
   "metadata": {},
   "source": [
    "- **Solutions**\n",
    "    - Expand Low-Cost Internet Infrastructure:\n",
    "\n",
    "        - Satellite internet: Partner with telecom companies and international organizations to provide affordable satellite-based internet solutions to underserved regions.\n",
    "        - Solar-powered internet hubs: Deploy solar-powered hubs that can provide both electricity and internet access in remote areas, addressing two major barriers at once.\n",
    "    - Digital Literacy and Skills Training:\n",
    "\n",
    "        - Mobile-based digital literacy programs: Develop affordable, scalable mobile-based learning platforms targeting both urban and rural populations.\n",
    "        - Gender-sensitive initiatives: Focus on providing digital literacy programs that include women and other marginalized groups to reduce the digital divide.\n",
    "        - Public-private partnerships: Collaborate with local schools, NGOs, and tech companies to provide free or low-cost online education and digital skills workshops for the population."
   ]
  }
 ],
 "metadata": {
  "kernelspec": {
   "display_name": "venv",
   "language": "python",
   "name": "python3"
  },
  "language_info": {
   "codemirror_mode": {
    "name": "ipython",
    "version": 3
   },
   "file_extension": ".py",
   "mimetype": "text/x-python",
   "name": "python",
   "nbconvert_exporter": "python",
   "pygments_lexer": "ipython3",
   "version": "3.12.3"
  }
 },
 "nbformat": 4,
 "nbformat_minor": 2
}
