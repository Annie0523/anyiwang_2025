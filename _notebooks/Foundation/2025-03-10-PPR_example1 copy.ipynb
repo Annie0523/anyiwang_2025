{
 "cells": [
  {
   "cell_type": "raw",
   "metadata": {
    "vscode": {
     "languageId": "raw"
    }
   },
   "source": [
    "---\n",
    "layout: post\n",
    "title: College Board PPR1\n",
    "author: Anyi Wang \n",
    "comments: true\n",
    "toc: true\n",
    "---"
   ]
  },
  {
   "cell_type": "markdown",
   "metadata": {},
   "source": [
    "### Function & Iteration (For Loop)"
   ]
  },
  {
   "cell_type": "markdown",
   "metadata": {},
   "source": [
    "<img src=\"{{site.baseurl}}/images/PPR1/code1.png\" alt=\"code1\" width=\"1000\">"
   ]
  },
  {
   "cell_type": "markdown",
   "metadata": {},
   "source": [
    "#### Q2\n",
    "\n",
    "##### a) Algorithm Development - For loop iteration\n",
    "\n",
    "``` python\n",
    "for field in required_fields:\n",
    "    if field not in data or not data[field].strip():\n",
    "        return jsonify({\"error\": f\"Missing or empty field: {field}\"}), 400\n",
    "```\n",
    "\n",
    "- This loop iterates four times, corresponding to the number of required fields: `name`, `country`, `city`, and `description`.\n",
    "- If all fields are present, the loop runs four times without returning an error.\n",
    "- If a missing or empty field is found, the loop exits early with an error response.\n",
    "\n",
    "##### Parameter\n",
    "\n",
    "- In this code, `self` is a parameter defined by the class-based structure of Flask's API resources. It represents the instance of the class where the `post` method is implemented.\n",
    "- When a `POST` request is made to the corresponding API endpoint, Flask automatically calls `post(self)`, passing the instance of the class as self. This allows the method to interact with the class instance, ensuring that the function can process the incoming JSON data, validate required fields, create a new `Landscape` object, and commit it to the database.\n",
    "\n",
    "##### b) Error and Testing\n",
    "\n",
    "- Error Identification: If the data is empty or missing necessary fields, the code returns an error message. If the data is not in JSON format,`request.get_json()` will return `None`, which will lead to a runtime error when attempting to call the `strip()` method on `NoneType`.\n",
    "\n",
    "- Correction: After `request.get_json()`, add `if not isinstance(data, dict): return jsonify({\"error\": \"Invalid JSON format\"}), 400` to avoid the `NoneType` error.\n",
    "\n",
    "##### c) Data and Procedural Abstraction\n",
    "\n",
    "```python\n",
    "def isEqual(a, b):\n",
    "    return a == b\n",
    "\n",
    "def count_landscapes_by_country(country):\n",
    "    landscapes = Landscape.query.all()  # Get all landscapes from the database\n",
    "    count = 0\n",
    "    for landscape in landscapes:\n",
    "        if isEqual(landscape.country, country):\n",
    "            count += 1\n",
    "    return count\n",
    "    \n",
    "country_name = \"USA\"\n",
    "result = count_landscapes_by_country(country_name)\n",
    "print(f\"Number of landscapes in {country_name}: {result}\")\n",
    "```\n",
    "- The algorithm iterates through all landscapes in the database and uses `isEqual(a, b)` to check if each landscape's country matches the given one. If a match is found, a counter is incremented. Finally, the function returns the total count. This effectively determines the number of landscapes in a specified country using list traversal and comparison."
   ]
  },
  {
   "cell_type": "markdown",
   "metadata": {},
   "source": [
    "### Call to Function & Selection (If/Else)"
   ]
  },
  {
   "cell_type": "markdown",
   "metadata": {},
   "source": [
    "<img src=\"{{site.baseurl}}/images/PPR1/code2.png\" alt=\"code2\" width=\"1000\">"
   ]
  },
  {
   "cell_type": "markdown",
   "metadata": {},
   "source": [
    "```python \n",
    "if (response.ok) {\n",
    "    alert('Landscape added successfully!');\n",
    "    document.getElementById('landscapeForm').reset();\n",
    "    window.fetchLandscapes(); // Refresh the table\n",
    "} else {\n",
    "    alert('Failed to add landscape.');\n",
    "}\n",
    "```\n",
    "\n",
    "- `if (response.ok)` checks whether the fetch request was successful.\n",
    "- `response.ok` is a boolean property of the `Response` object that is `true` if the HTTP status code is in the range `200-299` (indicating success).\n",
    "- If the request is successful (`response.ok` is `true`):\n",
    "\n",
    "    - It displays an alert saying `\"Landscape added successfully!\"`.\n",
    "    - It resets the form by calling `document.getElementById('landscapeForm').reset();`.\n",
    "    - It calls `window.fetchLandscapes();`, which likely updates the displayed list of landscapes.\n",
    "\n",
    "- If the request fails (`response.ok` is `false`):\n",
    "\n",
    "    - It displays an alert: `\"Failed to add landscape.\"`.\n",
    "    - This informs the user that something went wrong while trying to add the landscape.\n"
   ]
  },
  {
   "cell_type": "markdown",
   "metadata": {},
   "source": [
    "### A list"
   ]
  },
  {
   "cell_type": "markdown",
   "metadata": {},
   "source": [
    "<img src=\"{{site.baseurl}}/images/PPR1/code3.png\" alt=\"code3\" width=\"1000\">"
   ]
  },
  {
   "cell_type": "markdown",
   "metadata": {},
   "source": [
    "- This function initializes the `Landscape` database table by first creating all necessary tables and then checking if any records already exist. \n",
    "- If the table is empty, it creates a list of `Landscape` objects, each representing a famous landmark with attributes such as `name`, `country`, `city`, and `description`. \n",
    "- The function then iterates through the list and calls `create()` on each object to save them to the database. This ensures that the database has initial data when first set up."
   ]
  },
  {
   "cell_type": "markdown",
   "metadata": {},
   "source": [
    "<img src=\"{{site.baseurl}}/images/PPR1/code4.png\" alt=\"code4\" width=\"1000\">"
   ]
  },
  {
   "cell_type": "markdown",
   "metadata": {},
   "source": [
    "##### Q1: Program Design, Function, and Purpose\n",
    "\n",
    "- The purpose of this function is to store and provide information about famous landscapes worldwide, allowing travelers to explore and discover destinations of interest. By offering detailed descriptions, images, and travel recommendations, the function helps users gain insights into various landscapes and inspires their travel plans."
   ]
  }
 ],
 "metadata": {
  "language_info": {
   "name": "python"
  }
 },
 "nbformat": 4,
 "nbformat_minor": 2
}
